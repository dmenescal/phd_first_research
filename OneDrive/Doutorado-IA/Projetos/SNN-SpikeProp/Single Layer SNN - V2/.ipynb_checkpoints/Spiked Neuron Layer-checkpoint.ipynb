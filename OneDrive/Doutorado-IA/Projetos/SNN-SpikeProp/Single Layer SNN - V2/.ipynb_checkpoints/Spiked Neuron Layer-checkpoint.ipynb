{
 "cells": [
  {
   "cell_type": "code",
   "execution_count": 1,
   "id": "leading-element",
   "metadata": {},
   "outputs": [],
   "source": [
    "import numpy as np\n",
    "from keras.datasets import mnist\n",
    "import matplotlib.pyplot as plt\n",
    "%matplotlib inline"
   ]
  },
  {
   "cell_type": "code",
   "execution_count": 2,
   "id": "stupid-accreditation",
   "metadata": {},
   "outputs": [],
   "source": [
    "# Extract Patches from image\n",
    "def extractPatches(image, image_size, patch_size):\n",
    "    patches = []\n",
    "    for i in range(image_size):\n",
    "        for j in range(image_size):\n",
    "            pivot = (i,j)\n",
    "            if(pivot[0]+patch_size >= image_size or pivot[1]+patch_size >= image_size): continue\n",
    "            patch = image[pivot[0]:pivot[0]+patch_size, pivot[1]:pivot[1]+patch_size]\n",
    "            patches.append(patch)\n",
    "    return np.asarray(patches)"
   ]
  },
  {
   "cell_type": "code",
   "execution_count": 3,
   "id": "designing-hazard",
   "metadata": {},
   "outputs": [],
   "source": [
    "# Define SNN and its functions\n",
    "class IzhNeuron:\n",
    "    def __init__(self, a, b, c, d, v0, C, K, vt, v_peak, u0=None):\n",
    "        self.a = a\n",
    "        self.b = b\n",
    "        self.c = c\n",
    "        self.d = d\n",
    "        self.v = v0\n",
    "        self.u = u0 if u0 is not None else b*v0\n",
    "        self.C = C\n",
    "        self.vt = vt\n",
    "        self.K = K\n",
    "        self.vr = v0\n",
    "        self.v_peak = v_peak\n",
    "        \n",
    "class SNN_Single_Layer():\n",
    "    def __init__(self, patches, weights, n, p):\n",
    "        self.bio_params = {}\n",
    "        self.weights = weights\n",
    "        self.patches = patches\n",
    "        self.n = n\n",
    "        self.p = p\n",
    "        self.num_neurons = (n-p)*(n-p)\n",
    "        self.setTimeParams()\n",
    "        self.setMembraneCurrent()\n",
    "        self.setInputStimuli()\n",
    "    \n",
    "    def setTimeParams(self, T=100, dt=0.25):\n",
    "        self.dt = dt\n",
    "        self.t = t = np.arange(0, T+dt, dt)\n",
    "        self.stim = np.zeros((self.num_neurons,len(t)))\n",
    "    \n",
    "    def setBioParams(self, a = 0.02, b = 0.2, c = -65, d = 8, v0 = -60, C = 1, K = 0.7, vt = -40, v_peak = 30, u0=None):\n",
    "        self.bio_params = IzhNeuron(a, b, c, d, v0, C, K, vt, v_peak, u0)\n",
    "        self.du = lambda a, b, v, u, vr: (self.bio_params.a*(self.bio_params.b*(self.bio_params.v - self.bio_params.vr) - self.bio_params.u))\n",
    "        \n",
    "    def setMembraneCurrent(self, gama=100):\n",
    "        self.current = np.zeros(self.num_neurons)\n",
    "        acc = 0\n",
    "        for i in range(self.patches.shape[0]):\n",
    "            for j in range(self.patches.shape[1]):\n",
    "                for k in range(self.patches.shape[2]):\n",
    "                    acc += self.patches[i][j][k]*self.weights[i][j][k]\n",
    "            self.current[i] = gama*acc\n",
    "            acc = 0\n",
    "    \n",
    "    def setInputStimuli(self):\n",
    "        for i in range(self.stim.shape[0]):\n",
    "            self.stim[i] = self.current[i]\n",
    "    \n",
    "    def generateSpikeTrain(self):\n",
    "        self.neuron_spikes = np.zeros(self.num_neurons)\n",
    "        self.spike_train = []\n",
    "        self.neuron_trace = np.zeros((self.num_neurons, 2, self.stim.shape[1]))\n",
    "        for i in range(self.stim.shape[0]): # For each neuron on layer\n",
    "            self.setBioParams() #reset params for each neuron\n",
    "            train = []\n",
    "            for j in range(self.stim.shape[1]): # For each step of time\n",
    "                #print(\"Neuronio {}, Potencial = {}\".format(i, self.bio_params.v))\n",
    "                self.bio_params.v += (self.dt/self.bio_params.C) * ((self.bio_params.K*(self.bio_params.v - self.bio_params.vr)*(self.bio_params.v - self.bio_params.vt)) - self.bio_params.u + self.stim[i][j]) \n",
    "                self.bio_params.u += self.dt * self.du(self.bio_params.a,self.bio_params.b,self.bio_params.v,self.bio_params.u,self.bio_params.vr)\n",
    "                if self.bio_params.v >= self.bio_params.v_peak:\n",
    "                    #print(\"Disparo de Spike! Neuronio {} @ Potencial: {}\".format(i, self.bio_params.v))\n",
    "                    self.neuron_spikes[i] += 1\n",
    "                    train.append(j)\n",
    "                    self.neuron_trace[i][0,j] = self.bio_params.v_peak\n",
    "                    self.bio_params.v = self.bio_params.c\n",
    "                    self.bio_params.u += self.bio_params.d\n",
    "\n",
    "                else:\n",
    "                    self.neuron_trace[i][0,j] = self.bio_params.v\n",
    "                    self.neuron_trace[i][1,j] = self.bio_params.u\n",
    "            self.spike_train.append(np.asarray(train))\n",
    "        self.spike_train = np.asarray(self.spike_train)"
   ]
  },
  {
   "cell_type": "code",
   "execution_count": 4,
   "id": "centered-alberta",
   "metadata": {},
   "outputs": [],
   "source": [
    "# Load Image Dataset\n",
    "(x_train, y_train), (x_test, y_test) = mnist.load_data()\n",
    "\n",
    "# Normalize Dataset\n",
    "x_train = x_train/255\n",
    "\n",
    "# Sample image\n",
    "sample = x_train[0]"
   ]
  },
  {
   "cell_type": "code",
   "execution_count": 5,
   "id": "artistic-queen",
   "metadata": {},
   "outputs": [
    {
     "data": {
      "image/png": "[encoded data removed]",
      "text/plain": [
       "<Figure size 432x288 with 1 Axes>"
      ]
     },
     "metadata": {
      "needs_background": "light"
     },
     "output_type": "display_data"
    }
   ],
   "source": [
    "fig = plt.figure\n",
    "plt.imshow(sample, cmap='gray')\n",
    "plt.title(\"Exemplo de uma amostra da base de dados.\")\n",
    "plt.show()"
   ]
  },
  {
   "cell_type": "code",
   "execution_count": 6,
   "id": "civilian-trademark",
   "metadata": {},
   "outputs": [
    {
     "name": "stdout",
     "output_type": "stream",
     "text": [
      "Dimensão (n x n) da imagem de entrada: n = 28\n",
      "Dimensão (p x p) de cada patch(subset) da imagem: p = 5\n",
      "Quantidade de neurônios na camada de codificação para spikes: 529\n"
     ]
    }
   ],
   "source": [
    "# Image Dimension\n",
    "n = sample.shape[0]\n",
    "\n",
    "# Image Patch Dimension\n",
    "p = 5\n",
    "\n",
    "# Neurons Layer Quantity\n",
    "d = (n-p)*(n-p)\n",
    "\n",
    "print(\"Dimensão (n x n) da imagem de entrada: n =\", n)\n",
    "print(\"Dimensão (p x p) de cada patch(subset) da imagem: p =\", p)\n",
    "print(\"Quantidade de neurônios na camada de codificação para spikes:\", d)"
   ]
  },
  {
   "cell_type": "code",
   "execution_count": 7,
   "id": "honest-reconstruction",
   "metadata": {},
   "outputs": [
    {
     "name": "stdout",
     "output_type": "stream",
     "text": [
      "Dimensão da matriz de pesos sinápticos: (529, 5, 5)\n"
     ]
    }
   ],
   "source": [
    "W = np.random.uniform(0, 1, (d, p, p))\n",
    "print(\"Dimensão da matriz de pesos sinápticos:\", W.shape)"
   ]
  },
  {
   "cell_type": "code",
   "execution_count": 8,
   "id": "remarkable-patio",
   "metadata": {},
   "outputs": [
    {
     "name": "stdout",
     "output_type": "stream",
     "text": [
      "Dimensão da matriz de patches extraídos da imagem: (529, 5, 5)\n"
     ]
    }
   ],
   "source": [
    "patches = extractPatches(sample, n, p)\n",
    "print(\"Dimensão da matriz de patches extraídos da imagem:\",patches.shape)"
   ]
  },
  {
   "cell_type": "code",
   "execution_count": 9,
   "id": "academic-cricket",
   "metadata": {},
   "outputs": [
    {
     "data": {
      "image/png": "[encoded data removed]",
      "text/plain": [
       "<Figure size 432x288 with 1 Axes>"
      ]
     },
     "metadata": {
      "needs_background": "light"
     },
     "output_type": "display_data"
    }
   ],
   "source": [
    "fig = plt.figure\n",
    "plt.title(\"Exemplo de um patch removido da imagem.\")\n",
    "plt.imshow(patches[333], cmap='gray')\n",
    "plt.show()"
   ]
  },
  {
   "cell_type": "code",
   "execution_count": 10,
   "id": "aboriginal-shape",
   "metadata": {},
   "outputs": [
    {
     "ename": "ValueError",
     "evalue": "setting an array element with a sequence.",
     "output_type": "error",
     "traceback": [
      "\u001b[1;31m---------------------------------------------------------------------------\u001b[0m",
      "\u001b[1;31mTypeError\u001b[0m                                 Traceback (most recent call last)",
      "\u001b[1;31mTypeError\u001b[0m: only size-1 arrays can be converted to Python scalars",
      "\nThe above exception was the direct cause of the following exception:\n",
      "\u001b[1;31mValueError\u001b[0m                                Traceback (most recent call last)",
      "\u001b[1;32m<ipython-input-10-17b7f633cea1>\u001b[0m in \u001b[0;36m<module>\u001b[1;34m\u001b[0m\n\u001b[0;32m      1\u001b[0m \u001b[0msingle_layer_snn\u001b[0m \u001b[1;33m=\u001b[0m \u001b[0mSNN_Single_Layer\u001b[0m\u001b[1;33m(\u001b[0m\u001b[0mpatches\u001b[0m\u001b[1;33m,\u001b[0m \u001b[0mW\u001b[0m\u001b[1;33m,\u001b[0m \u001b[0mn\u001b[0m\u001b[1;33m,\u001b[0m \u001b[0mp\u001b[0m\u001b[1;33m)\u001b[0m\u001b[1;33m\u001b[0m\u001b[1;33m\u001b[0m\u001b[0m\n\u001b[1;32m----> 2\u001b[1;33m \u001b[0msingle_layer_snn\u001b[0m\u001b[1;33m.\u001b[0m\u001b[0mgenerateSpikeTrain\u001b[0m\u001b[1;33m(\u001b[0m\u001b[1;33m)\u001b[0m\u001b[1;33m\u001b[0m\u001b[1;33m\u001b[0m\u001b[0m\n\u001b[0m",
      "\u001b[1;32m<ipython-input-3-d98c1c754214>\u001b[0m in \u001b[0;36mgenerateSpikeTrain\u001b[1;34m(self)\u001b[0m\n\u001b[0;32m     71\u001b[0m                     \u001b[0mself\u001b[0m\u001b[1;33m.\u001b[0m\u001b[0mneuron_trace\u001b[0m\u001b[1;33m[\u001b[0m\u001b[0mi\u001b[0m\u001b[1;33m]\u001b[0m\u001b[1;33m[\u001b[0m\u001b[1;36m0\u001b[0m\u001b[1;33m,\u001b[0m\u001b[0mj\u001b[0m\u001b[1;33m]\u001b[0m \u001b[1;33m=\u001b[0m \u001b[0mself\u001b[0m\u001b[1;33m.\u001b[0m\u001b[0mbio_params\u001b[0m\u001b[1;33m.\u001b[0m\u001b[0mv\u001b[0m\u001b[1;33m\u001b[0m\u001b[1;33m\u001b[0m\u001b[0m\n\u001b[0;32m     72\u001b[0m                     \u001b[0mself\u001b[0m\u001b[1;33m.\u001b[0m\u001b[0mneuron_trace\u001b[0m\u001b[1;33m[\u001b[0m\u001b[0mi\u001b[0m\u001b[1;33m]\u001b[0m\u001b[1;33m[\u001b[0m\u001b[1;36m1\u001b[0m\u001b[1;33m,\u001b[0m\u001b[0mj\u001b[0m\u001b[1;33m]\u001b[0m \u001b[1;33m=\u001b[0m \u001b[0mself\u001b[0m\u001b[1;33m.\u001b[0m\u001b[0mbio_params\u001b[0m\u001b[1;33m.\u001b[0m\u001b[0mu\u001b[0m\u001b[1;33m\u001b[0m\u001b[1;33m\u001b[0m\u001b[0m\n\u001b[1;32m---> 73\u001b[1;33m             \u001b[0mself\u001b[0m\u001b[1;33m.\u001b[0m\u001b[0mspike_train\u001b[0m\u001b[1;33m[\u001b[0m\u001b[0mi\u001b[0m\u001b[1;33m]\u001b[0m \u001b[1;33m=\u001b[0m \u001b[0mnp\u001b[0m\u001b[1;33m.\u001b[0m\u001b[0masarray\u001b[0m\u001b[1;33m(\u001b[0m\u001b[0mtrain\u001b[0m\u001b[1;33m)\u001b[0m\u001b[1;33m\u001b[0m\u001b[1;33m\u001b[0m\u001b[0m\n\u001b[0m",
      "\u001b[1;31mValueError\u001b[0m: setting an array element with a sequence."
     ]
    }
   ],
   "source": [
    "single_layer_snn = SNN_Single_Layer(patches, W, n, p)\n",
    "single_layer_snn.generateSpikeTrain()"
   ]
  },
  {
   "cell_type": "code",
   "execution_count": null,
   "id": "excited-blowing",
   "metadata": {
    "scrolled": true
   },
   "outputs": [],
   "source": [
    "print(\"Dimensão da matriz de tempo de simulação (por neurônio):\",single_layer_snn.stim.shape)\n",
    "print(\"Tempo total de execução, em passos ('ms'):\", single_layer_snn.stim.shape[1])"
   ]
  },
  {
   "cell_type": "code",
   "execution_count": null,
   "id": "junior-norman",
   "metadata": {
    "scrolled": true
   },
   "outputs": [],
   "source": [
    "print(\"Configuração do neurônio biológico de Izhikevich - parâmetros biológicos:\")\n",
    "single_layer_snn.bio_params"
   ]
  },
  {
   "cell_type": "code",
   "execution_count": null,
   "id": "secret-housing",
   "metadata": {},
   "outputs": [],
   "source": [
    "print(\"Dimensão da corrente de entrada na membrana celular:\", single_layer_snn.current.shape)\n",
    "print(\"A corrente é um valor escalar para cada um dos 529 neurônios.\")"
   ]
  },
  {
   "cell_type": "code",
   "execution_count": null,
   "id": "sensitive-transcript",
   "metadata": {},
   "outputs": [],
   "source": [
    "print(\"Spike Trains gerados para cada neurônios. Cada valor é um tempo dentro do intervalo de 0 a 401 ms:\")\n",
    "single_layer_snn.spike_train"
   ]
  },
  {
   "cell_type": "code",
   "execution_count": null,
   "id": "wrapped-residence",
   "metadata": {},
   "outputs": [],
   "source": [
    "print(\"Quantidade de spikes que cada neurônio disparou dentro do tempo de simulação:\")\n",
    "print(single_layer_snn.neuron_spikes)"
   ]
  },
  {
   "cell_type": "code",
   "execution_count": null,
   "id": "fuzzy-treasurer",
   "metadata": {},
   "outputs": [],
   "source": [
    "plt.figure(figsize=(16,8))\n",
    "plt.plot(single_layer_snn.neuron_spikes)\n",
    "plt.title(\"Comportamento de disparo de neurônios.\")\n",
    "plt.xlabel(\"Índice do Neurônio\")\n",
    "plt.ylabel(\"Quantidade de Spikes\")\n",
    "plt.show()"
   ]
  },
  {
   "cell_type": "code",
   "execution_count": null,
   "id": "single-health",
   "metadata": {},
   "outputs": [],
   "source": []
  }
 ],
 "metadata": {
  "kernelspec": {
   "display_name": "Python 3",
   "language": "python",
   "name": "python3"
  },
  "language_info": {
   "codemirror_mode": {
    "name": "ipython",
    "version": 3
   },
   "file_extension": ".py",
   "mimetype": "text/x-python",
   "name": "python",
   "nbconvert_exporter": "python",
   "pygments_lexer": "ipython3",
   "version": "3.7.10"
  }
 },
 "nbformat": 4,
 "nbformat_minor": 5
}
