{
 "cells": [
  {
   "cell_type": "code",
   "execution_count": 1,
   "metadata": {},
   "outputs": [
    {
     "name": "stdout",
     "output_type": "stream",
     "text": [
      "Max encoding current: -27.524995834325125\n",
      "Min encoding current: 0.9998637940269709\n",
      "Max mlp current: -27.524995834325125\n",
      "Min mlp current: 0.9998637940269709\n"
     ]
    }
   ],
   "source": [
    "import snn_train as snn\n",
    "import numpy as np\n",
    "import random\n",
    "import matplotlib.pyplot as plt\n",
    "\n",
    "#snn.input_params['num_classes'] = 2\n",
    "#snn.input_params['lif_simulation_time'] = 20\n",
    "\n",
    "snn.set_max_current()\n",
    "snn.set_min_current()\n",
    "\n",
    "print('Max encoding current: {}'.format(snn.input_params['max_enc_input_current']))\n",
    "print('Min encoding current: {}'.format(snn.input_params['min_enc_input_current']))\n",
    "print('Max mlp current: {}'.format(snn.input_params['max_mlp_input_current']))\n",
    "print('Min mlp current: {}'.format(snn.input_params['min_mlp_input_current']))"
   ]
  },
  {
   "cell_type": "markdown",
   "metadata": {},
   "source": [
    "# Inspeção rápida do modelo para saber se ele está classificando de fato ou não"
   ]
  },
  {
   "cell_type": "markdown",
   "metadata": {},
   "source": [
    "## Carregando dados do arquivo txt: São 8 caracteres num formato 12x10, onde cada coluna corresponde a um caractere (logo, 8 colunas) e cada coluna possui 120 linhas (imagem vetorizada: 12x10=120)."
   ]
  },
  {
   "cell_type": "code",
   "execution_count": 2,
   "metadata": {},
   "outputs": [
    {
     "data": {
      "text/plain": [
       "(120, 8)"
      ]
     },
     "execution_count": 2,
     "metadata": {},
     "output_type": "execute_result"
    }
   ],
   "source": [
    "from numpy import genfromtxt\n",
    "data = genfromtxt('char8_12x10.txt', delimiter=',')\n",
    "data.shape"
   ]
  },
  {
   "cell_type": "markdown",
   "metadata": {},
   "source": [
    "## Transformação em um tensor de dimensão 8x12x10: A primeira dimensão são os caracteres, enquanto que as duas dimensões internas são a imagem em formato matricial."
   ]
  },
  {
   "cell_type": "code",
   "execution_count": 3,
   "metadata": {},
   "outputs": [
    {
     "data": {
      "text/plain": [
       "array([[[-1., -1., -1., -1., -1., -1., -1., -1., -1., -1.],\n",
       "        [-1., -1., -1.,  1.,  1.,  1.,  1., -1., -1., -1.],\n",
       "        [-1., -1.,  1.,  1.,  1.,  1.,  1.,  1., -1., -1.],\n",
       "        [-1.,  1.,  1.,  1., -1., -1.,  1.,  1.,  1., -1.],\n",
       "        [-1.,  1.,  1.,  1., -1., -1.,  1.,  1.,  1., -1.],\n",
       "        [-1.,  1.,  1.,  1., -1., -1.,  1.,  1.,  1., -1.],\n",
       "        [-1.,  1.,  1.,  1., -1., -1.,  1.,  1.,  1., -1.],\n",
       "        [-1.,  1.,  1.,  1., -1., -1.,  1.,  1.,  1., -1.],\n",
       "        [-1.,  1.,  1.,  1., -1., -1.,  1.,  1.,  1., -1.],\n",
       "        [-1., -1.,  1.,  1.,  1.,  1.,  1.,  1., -1., -1.],\n",
       "        [-1., -1., -1.,  1.,  1.,  1.,  1., -1., -1., -1.],\n",
       "        [-1., -1., -1., -1., -1., -1., -1., -1., -1., -1.]],\n",
       "\n",
       "       [[-1., -1., -1.,  1.,  1.,  1.,  1., -1., -1., -1.],\n",
       "        [-1., -1., -1.,  1.,  1.,  1.,  1., -1., -1., -1.],\n",
       "        [-1., -1., -1.,  1.,  1.,  1.,  1., -1., -1., -1.],\n",
       "        [-1., -1., -1.,  1.,  1.,  1.,  1., -1., -1., -1.],\n",
       "        [-1., -1., -1.,  1.,  1.,  1.,  1., -1., -1., -1.],\n",
       "        [-1., -1., -1.,  1.,  1.,  1.,  1., -1., -1., -1.],\n",
       "        [-1., -1., -1.,  1.,  1.,  1.,  1., -1., -1., -1.],\n",
       "        [-1., -1., -1.,  1.,  1.,  1.,  1., -1., -1., -1.],\n",
       "        [-1., -1., -1.,  1.,  1.,  1.,  1., -1., -1., -1.],\n",
       "        [-1., -1., -1.,  1.,  1.,  1.,  1., -1., -1., -1.],\n",
       "        [-1., -1., -1.,  1.,  1.,  1.,  1., -1., -1., -1.],\n",
       "        [-1., -1., -1.,  1.,  1.,  1.,  1., -1., -1., -1.]],\n",
       "\n",
       "       [[ 1.,  1.,  1.,  1.,  1.,  1.,  1.,  1., -1., -1.],\n",
       "        [ 1.,  1.,  1.,  1.,  1.,  1.,  1.,  1., -1., -1.],\n",
       "        [-1., -1., -1., -1., -1., -1.,  1.,  1., -1., -1.],\n",
       "        [-1., -1., -1., -1., -1., -1.,  1.,  1., -1., -1.],\n",
       "        [-1., -1., -1., -1., -1., -1.,  1.,  1., -1., -1.],\n",
       "        [ 1.,  1.,  1.,  1.,  1.,  1.,  1.,  1., -1., -1.],\n",
       "        [ 1.,  1.,  1.,  1.,  1.,  1.,  1.,  1., -1., -1.],\n",
       "        [ 1.,  1., -1., -1., -1., -1., -1., -1., -1., -1.],\n",
       "        [ 1.,  1., -1., -1., -1., -1., -1., -1., -1., -1.],\n",
       "        [ 1.,  1., -1., -1., -1., -1., -1., -1., -1., -1.],\n",
       "        [ 1.,  1.,  1.,  1.,  1.,  1.,  1.,  1., -1., -1.],\n",
       "        [ 1.,  1.,  1.,  1.,  1.,  1.,  1.,  1., -1., -1.]],\n",
       "\n",
       "       [[-1., -1.,  1.,  1.,  1.,  1.,  1.,  1., -1., -1.],\n",
       "        [-1., -1.,  1.,  1.,  1.,  1.,  1.,  1.,  1., -1.],\n",
       "        [-1., -1., -1., -1., -1., -1., -1.,  1.,  1., -1.],\n",
       "        [-1., -1., -1., -1., -1., -1., -1.,  1.,  1., -1.],\n",
       "        [-1., -1., -1., -1., -1., -1., -1.,  1.,  1., -1.],\n",
       "        [-1., -1., -1., -1.,  1.,  1.,  1.,  1., -1., -1.],\n",
       "        [-1., -1., -1., -1.,  1.,  1.,  1.,  1., -1., -1.],\n",
       "        [-1., -1., -1., -1., -1., -1., -1.,  1.,  1., -1.],\n",
       "        [-1., -1., -1., -1., -1., -1., -1.,  1.,  1., -1.],\n",
       "        [-1., -1., -1., -1., -1., -1., -1.,  1.,  1., -1.],\n",
       "        [-1., -1.,  1.,  1.,  1.,  1.,  1.,  1.,  1., -1.],\n",
       "        [-1., -1.,  1.,  1.,  1.,  1.,  1.,  1., -1., -1.]],\n",
       "\n",
       "       [[-1.,  1.,  1., -1., -1., -1., -1.,  1.,  1., -1.],\n",
       "        [-1.,  1.,  1., -1., -1., -1., -1.,  1.,  1., -1.],\n",
       "        [-1.,  1.,  1., -1., -1., -1., -1.,  1.,  1., -1.],\n",
       "        [-1.,  1.,  1., -1., -1., -1., -1.,  1.,  1., -1.],\n",
       "        [-1.,  1.,  1., -1., -1., -1., -1.,  1.,  1., -1.],\n",
       "        [-1.,  1.,  1.,  1.,  1.,  1.,  1.,  1.,  1., -1.],\n",
       "        [-1.,  1.,  1.,  1.,  1.,  1.,  1.,  1.,  1., -1.],\n",
       "        [-1., -1., -1., -1., -1., -1., -1.,  1.,  1., -1.],\n",
       "        [-1., -1., -1., -1., -1., -1., -1.,  1.,  1., -1.],\n",
       "        [-1., -1., -1., -1., -1., -1., -1.,  1.,  1., -1.],\n",
       "        [-1., -1., -1., -1., -1., -1., -1.,  1.,  1., -1.],\n",
       "        [-1., -1., -1., -1., -1., -1., -1.,  1.,  1., -1.]],\n",
       "\n",
       "       [[ 1.,  1.,  1.,  1.,  1.,  1., -1., -1., -1., -1.],\n",
       "        [ 1.,  1.,  1.,  1.,  1.,  1., -1., -1., -1., -1.],\n",
       "        [ 1.,  1., -1., -1., -1., -1., -1., -1., -1., -1.],\n",
       "        [ 1.,  1., -1., -1., -1., -1., -1., -1., -1., -1.],\n",
       "        [ 1.,  1., -1., -1., -1., -1., -1., -1., -1., -1.],\n",
       "        [ 1.,  1.,  1.,  1.,  1.,  1., -1., -1., -1., -1.],\n",
       "        [ 1.,  1.,  1.,  1.,  1.,  1., -1., -1., -1., -1.],\n",
       "        [ 1.,  1., -1., -1.,  1.,  1., -1., -1., -1., -1.],\n",
       "        [ 1.,  1., -1., -1.,  1.,  1., -1., -1., -1., -1.],\n",
       "        [ 1.,  1., -1., -1.,  1.,  1., -1., -1., -1., -1.],\n",
       "        [ 1.,  1.,  1.,  1.,  1.,  1., -1., -1., -1., -1.],\n",
       "        [ 1.,  1.,  1.,  1.,  1.,  1., -1., -1., -1., -1.]],\n",
       "\n",
       "       [[ 1.,  1.,  1.,  1.,  1., -1., -1., -1., -1., -1.],\n",
       "        [ 1.,  1.,  1.,  1.,  1., -1., -1., -1., -1., -1.],\n",
       "        [ 1.,  1.,  1.,  1.,  1., -1., -1., -1., -1., -1.],\n",
       "        [ 1.,  1.,  1.,  1.,  1., -1., -1., -1., -1., -1.],\n",
       "        [ 1.,  1.,  1.,  1.,  1., -1., -1., -1., -1., -1.],\n",
       "        [ 1.,  1.,  1.,  1.,  1., -1., -1., -1., -1., -1.],\n",
       "        [-1., -1., -1., -1., -1., -1., -1., -1., -1., -1.],\n",
       "        [-1., -1., -1., -1., -1., -1., -1., -1., -1., -1.],\n",
       "        [-1., -1., -1., -1., -1., -1., -1., -1., -1., -1.],\n",
       "        [-1., -1., -1., -1., -1., -1., -1., -1., -1., -1.],\n",
       "        [-1., -1., -1., -1., -1., -1., -1., -1., -1., -1.],\n",
       "        [-1., -1., -1., -1., -1., -1., -1., -1., -1., -1.]],\n",
       "\n",
       "       [[-1., -1., -1., -1.,  1.,  1.,  1.,  1.,  1.,  1.],\n",
       "        [-1., -1., -1., -1.,  1.,  1.,  1.,  1.,  1.,  1.],\n",
       "        [-1., -1., -1., -1.,  1.,  1., -1., -1.,  1.,  1.],\n",
       "        [-1., -1., -1., -1.,  1.,  1., -1., -1.,  1.,  1.],\n",
       "        [-1., -1., -1., -1.,  1.,  1., -1., -1.,  1.,  1.],\n",
       "        [-1., -1., -1., -1.,  1.,  1.,  1.,  1.,  1.,  1.],\n",
       "        [-1., -1., -1., -1.,  1.,  1.,  1.,  1.,  1.,  1.],\n",
       "        [-1., -1., -1., -1., -1., -1., -1., -1.,  1.,  1.],\n",
       "        [-1., -1., -1., -1., -1., -1., -1., -1.,  1.,  1.],\n",
       "        [-1., -1., -1., -1., -1., -1., -1., -1.,  1.,  1.],\n",
       "        [-1., -1., -1., -1.,  1.,  1.,  1.,  1.,  1.,  1.],\n",
       "        [-1., -1., -1., -1.,  1.,  1.,  1.,  1.,  1.,  1.]]])"
      ]
     },
     "execution_count": 3,
     "metadata": {},
     "output_type": "execute_result"
    }
   ],
   "source": [
    "char_num = data.shape[1]\n",
    "\n",
    "char_list = []\n",
    "\n",
    "for i in range(char_num):\n",
    "    char_vec_img = data[:, i]\n",
    "    char_mat_img = char_vec_img.reshape((12, 10))\n",
    "    char_list.append(char_mat_img)\n",
    "\n",
    "char_data_set = np.array(char_list)\n",
    "char_data_set"
   ]
  },
  {
   "cell_type": "markdown",
   "metadata": {},
   "source": [
    "## Normalização da Base para Max-Min (0,1):"
   ]
  },
  {
   "cell_type": "code",
   "execution_count": 4,
   "metadata": {},
   "outputs": [],
   "source": [
    "norm_dataset = (char_data_set -np.min(char_data_set))/(np.max(char_data_set)-np.min(char_data_set))"
   ]
  },
  {
   "cell_type": "markdown",
   "metadata": {},
   "source": [
    "## Geração de amostras ruidosas para completar o dataset de treino e teste:"
   ]
  },
  {
   "cell_type": "code",
   "execution_count": 5,
   "metadata": {},
   "outputs": [
    {
     "name": "stdout",
     "output_type": "stream",
     "text": [
      "(8, 200, 12, 10)\n",
      "0 160 160 200\n",
      "(8, 160, 12, 10) (8, 40, 12, 10)\n"
     ]
    }
   ],
   "source": [
    "# Geração de um conjunto de probabilidades para aplicar o ruido na imagem\n",
    "noise_prob_levels = np.arange(0, 0.10, 0.0005)\n",
    "\n",
    "# Construção de uma base de amostras ruidosas\n",
    "label_samples = []\n",
    "for label in range(snn.input_params['num_classes']):\n",
    "    samples = []\n",
    "    for sample in range(len(noise_prob_levels)):\n",
    "        noisy_img = snn.img_noise(norm_dataset[label], noise_prob_levels[i])\n",
    "        samples.append(noisy_img)\n",
    "    label_samples.append(samples)\n",
    "\n",
    "sample_set = np.array(label_samples)\n",
    "print(sample_set.shape)\n",
    "\n",
    "\n",
    "# Separação da base de amostras em base de treino e base de teste, na proporção 80-20\n",
    "split_ratio = 0.8\n",
    "\n",
    "train_lower_idx = 0\n",
    "train_upper_idx = int(sample_set.shape[1]*split_ratio)\n",
    "test_lower_idx = int(sample_set.shape[1]*split_ratio)\n",
    "test_upper_idx = test_lower_idx + int(sample_set.shape[1]*(1-split_ratio)) + 1\n",
    "\n",
    "train_set = sample_set[:, train_lower_idx:train_upper_idx]\n",
    "test_set = sample_set[:, test_lower_idx:test_upper_idx]\n",
    "\n",
    "print(train_lower_idx, train_upper_idx, test_lower_idx, test_upper_idx)\n",
    "print(train_set.shape, test_set.shape)\n"
   ]
  },
  {
   "cell_type": "markdown",
   "metadata": {},
   "source": [
    "## Geração dos impulsos desejados:"
   ]
  },
  {
   "cell_type": "markdown",
   "metadata": {},
   "source": [
    "### Definição das Correntes Máxima e Mínima"
   ]
  },
  {
   "cell_type": "code",
   "execution_count": 14,
   "metadata": {},
   "outputs": [
    {
     "name": "stdout",
     "output_type": "stream",
     "text": [
      "Corrente Máxima (1 impulso por ms): 33nA\n",
      "Corrente Mínima (1 impulso por Tms, onde T é o tempo total): 5nA\n"
     ]
    }
   ],
   "source": [
    "import math\n",
    "\n",
    "R = snn.input_params['lif_enc_resistance']\n",
    "EL = snn.input_params['lif_enc_rest_potential']\n",
    "V0 = snn.input_params['lif_enc_start_potential']\n",
    "tao = snn.input_params['lif_enc_tao']\n",
    "Vth = snn.input_params['lif_enc_threshold']\n",
    "T = snn.input_params['lif_simulation_time']\n",
    "\n",
    "def current_lif (R, EL, V0, tao, Vth, t):\n",
    "    return ((EL-V0)-((EL-Vth)*math.exp(t/tao)))/(R*(math.exp(t/tao)-1))\n",
    "\n",
    "I_max = math.ceil(current_lif(R, EL, V0, tao, Vth, 1))\n",
    "I_min = math.ceil(current_lif(R, EL, V0, tao, Vth, T))\n",
    "print('Corrente Máxima (1 impulso por ms): {}nA'.format(I_max))\n",
    "print('Corrente Mínima (1 impulso por Tms, onde T é o tempo total): {}nA'.format(I_min))"
   ]
  },
  {
   "cell_type": "markdown",
   "metadata": {},
   "source": [
    "### Geração das Correntes por rótulo, respeitando o intervalo [Imin, Imax]"
   ]
  },
  {
   "cell_type": "code",
   "execution_count": 15,
   "metadata": {},
   "outputs": [
    {
     "data": {
      "text/plain": [
       "array([ 5.,  9., 13., 17., 21., 25., 29., 33.])"
      ]
     },
     "execution_count": 15,
     "metadata": {},
     "output_type": "execute_result"
    }
   ],
   "source": [
    "def label_currents (Nc, Imax, Imin):\n",
    "    I_labels = np.zeros(Nc)\n",
    "    for r in range(Nc):\n",
    "        ir = Imin + r*((Imax-Imin)/(Nc-1))\n",
    "        I_labels[r] = ir\n",
    "    return I_labels\n",
    "\n",
    "I_labels = label_currents(snn.input_params['num_classes'], I_max, I_min)\n",
    "I_labels"
   ]
  },
  {
   "cell_type": "markdown",
   "metadata": {},
   "source": [
    "### Geração dos Impulsos a partir das correntes"
   ]
  },
  {
   "cell_type": "code",
   "execution_count": 16,
   "metadata": {},
   "outputs": [
    {
     "data": {
      "text/plain": [
       "array([array([18, 37, 56, 75, 94]),\n",
       "       array([ 7, 15, 23, 31, 39, 47, 55, 63, 71, 79, 87, 95]),\n",
       "       array([ 5, 11, 17, 23, 29, 35, 41, 47, 53, 59, 65, 71, 77, 83, 89, 95]),\n",
       "       array([ 4,  9, 14, 19, 24, 29, 34, 39, 44, 49, 54, 59, 64, 69, 74, 79, 84,\n",
       "       89, 94, 99]),\n",
       "       array([ 3,  7, 11, 15, 19, 23, 27, 31, 35, 39, 43, 47, 51, 55, 59, 63, 67,\n",
       "       71, 75, 79, 83, 87, 91, 95, 99]),\n",
       "       array([ 3,  7, 11, 15, 19, 23, 27, 31, 35, 39, 43, 47, 51, 55, 59, 63, 67,\n",
       "       71, 75, 79, 83, 87, 91, 95, 99]),\n",
       "       array([ 2,  5,  8, 11, 14, 17, 20, 23, 26, 29, 32, 35, 38, 41, 44, 47, 50,\n",
       "       53, 56, 59, 62, 65, 68, 71, 74, 77, 80, 83, 86, 89, 92, 95, 98]),\n",
       "       array([ 2,  5,  8, 11, 14, 17, 20, 23, 26, 29, 32, 35, 38, 41, 44, 47, 50,\n",
       "       53, 56, 59, 62, 65, 68, 71, 74, 77, 80, 83, 86, 89, 92, 95, 98])],\n",
       "      dtype=object)"
      ]
     },
     "execution_count": 16,
     "metadata": {},
     "output_type": "execute_result"
    }
   ],
   "source": [
    "desired_times = []\n",
    "desired_spikes = []\n",
    "#desired_count = []\n",
    "\n",
    "for il in I_labels:\n",
    "    spb, spt, _ = snn.integrate_and_fire_spikes(R, tao, EL, V0, Vth, il, T)\n",
    "    desired_spikes.append(spb)\n",
    "    desired_times.append(spt)\n",
    "\n",
    "desired_times = np.array(desired_times)\n",
    "desired_spikes = np.array(desired_spikes)\n",
    "\n",
    "labels = random.sample(range(0,snn.input_params['num_classes']), snn.input_params['num_classes'])\n",
    "snn.input_params['desired_spikes'] = desired_spikes[np.sort(labels)]\n",
    "snn.input_params['desired_times'] = desired_times[np.sort(labels)]\n",
    "snn.input_params['desired_times']"
   ]
  },
  {
   "cell_type": "code",
   "execution_count": null,
   "metadata": {},
   "outputs": [],
   "source": [
    "labels = random.sample(range(0,snn.input_params['num_classes']), snn.input_params['num_classes'])\n",
    "# Expected Values for Spikes for classes\n",
    "desired_range = snn.spike_interval_generator(number_of_classes=snn.input_params['num_classes'], simulation_time=snn.input_params['lif_simulation_time'])\n",
    "desired_isi = snn.spike_isi_generator(snn.input_params['num_classes'], snn.input_params['lif_simulation_time'])\n",
    "dsb, dst = snn.spike_times_generator_new(desired_range, desired_isi)\n",
    "snn.input_params['desired_spikes'] = dsb[np.sort(labels)]\n",
    "snn.input_params['desired_times'] = dst[np.sort(labels)]\n",
    "#snn.input_params['desired_count'] = desired_count\n",
    "snn.input_params['desired_times']"
   ]
  },
  {
   "cell_type": "markdown",
   "metadata": {},
   "source": [
    "## Treinamento da SNN:"
   ]
  },
  {
   "cell_type": "code",
   "execution_count": null,
   "metadata": {},
   "outputs": [],
   "source": [
    "train_set[:,0].shape"
   ]
  },
  {
   "cell_type": "code",
   "execution_count": null,
   "metadata": {},
   "outputs": [],
   "source": [
    "snn.input_params['num_samples'] = train_set.shape[1]\n",
    "snn.input_params['num_test_samples'] = test_set.shape[1]\n",
    "snn.input_params['num_epochs'] = 2\n",
    "\n",
    "training_error = snn.fit(train_set)\n",
    "plt.plot(training_error)\n",
    "plt.title(\"SNN Training Error\")\n",
    "plt.xlabel('Epochs') \n",
    "plt.ylabel('MSE')"
   ]
  },
  {
   "cell_type": "code",
   "execution_count": null,
   "metadata": {},
   "outputs": [],
   "source": [
    "acc = snn.eval_accuracy(test_set)\n",
    "acc = acc * 100"
   ]
  },
  {
   "cell_type": "code",
   "execution_count": null,
   "metadata": {},
   "outputs": [],
   "source": []
  }
 ],
 "metadata": {
  "kernelspec": {
   "display_name": "Python 3.7.10 ('snn-pso')",
   "language": "python",
   "name": "python3"
  },
  "language_info": {
   "codemirror_mode": {
    "name": "ipython",
    "version": 3
   },
   "file_extension": ".py",
   "mimetype": "text/x-python",
   "name": "python",
   "nbconvert_exporter": "python",
   "pygments_lexer": "ipython3",
   "version": "3.7.10"
  },
  "orig_nbformat": 4,
  "vscode": {
   "interpreter": {
    "hash": "b1e70f11dca2dc5513a0c6b4fc2ed39d02d5fbfdc883f5701900c44d230e79da"
   }
  }
 },
 "nbformat": 4,
 "nbformat_minor": 2
}
