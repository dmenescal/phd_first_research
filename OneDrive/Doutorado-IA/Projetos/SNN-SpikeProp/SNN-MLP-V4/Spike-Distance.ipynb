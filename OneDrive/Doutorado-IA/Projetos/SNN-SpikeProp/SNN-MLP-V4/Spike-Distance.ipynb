{
 "cells": [
  {
   "cell_type": "markdown",
   "metadata": {},
   "source": [
    "# Visualizações práticas do algoritmo SPIKE-Distance, para avaliar dissimilaridades entre Spike Trains"
   ]
  },
  {
   "cell_type": "code",
   "execution_count": 1,
   "metadata": {},
   "outputs": [],
   "source": [
    "import numpy as np\n",
    "import random\n",
    "import matplotlib.pyplot as plt"
   ]
  },
  {
   "cell_type": "markdown",
   "metadata": {},
   "source": [
    "# Gerador de Spikes customizado para vários casos de estudo."
   ]
  },
  {
   "cell_type": "code",
   "execution_count": 2,
   "metadata": {},
   "outputs": [],
   "source": [
    "\n",
    "###########################################################################################\n",
    "## Spike Count Generator for Desired spikes\n",
    "def spike_count_generator(n=2, T=10, reduction_ratio=1, make_zero_st=False, make_full_st=False, make_complemetary_st=False):\n",
    "    spike_counts_per_st = np.zeros(n)\n",
    "    \n",
    "    if(make_complemetary_st == True):\n",
    "        rand_count = np.random.randint(2, int(T/reduction_ratio))\n",
    "        spike_counts_per_st[0] = rand_count\n",
    "        spike_counts_per_st[1] = T - rand_count\n",
    "        \n",
    "        return spike_counts_per_st\n",
    "    \n",
    "    for i in range(n):\n",
    "        if (make_zero_st == True):\n",
    "            spike_counts_per_st[i] = 0\n",
    "            make_zero_st = False\n",
    "            continue\n",
    "        if (make_full_st == True):\n",
    "            spike_counts_per_st[i] = int(T/reduction_ratio)\n",
    "            make_full_st = False\n",
    "            continue\n",
    "        spike_counts_per_st[i] = np.random.randint(2, int(T/reduction_ratio))\n",
    "\n",
    "    return spike_counts_per_st\n",
    "\n",
    "###########################################################################################\n",
    "## Spike Times Generator for Desired spikes\n",
    "def spike_times_generator(spike_count=None, n=2, T=10, duplicate=False, complementary_spikes=False, time_shift=False, shift_step=0):\n",
    "    desired_spike_train = []\n",
    "    desired_spike_bin = np.zeros((n, T))\n",
    "    spike_range = (0, T)\n",
    "    if (duplicate == True):\n",
    "        count = 0\n",
    "        i = 0\n",
    "        spike_time = random.sample(range(spike_range[0], spike_range[1]), int(spike_count[i]))\n",
    "        while (count < n):\n",
    "            desired_spike_bin[count][spike_time] = 1\n",
    "            desired_spike_train.append(np.sort(spike_time))\n",
    "            count += 1\n",
    "    else:\n",
    "        if (complementary_spikes == True):\n",
    "            rand_times = random.sample(range(spike_range[0], spike_range[1]), int(spike_count[0]))\n",
    "            all_times = range(spike_range[0], spike_range[1])\n",
    "            compl_times = np.array(list(set(all_times).symmetric_difference(set(rand_times))))\n",
    "            \n",
    "            desired_spike_bin[0][rand_times] = 1\n",
    "            desired_spike_bin[1][compl_times] = 1\n",
    "            desired_spike_train.append(np.sort(rand_times))\n",
    "            desired_spike_train.append(np.sort(compl_times))\n",
    "            \n",
    "        elif (time_shift == True):\n",
    "            spike_time = random.sample(range(spike_range[0], spike_range[1]), int(spike_count[0]))\n",
    "            shifted_time = np.add(spike_time, shift_step)\n",
    "            out_of_bounds = np.argwhere(shifted_time >= T)\n",
    "            if (out_of_bounds.shape[0] > 0):\n",
    "                shifted_time[out_of_bounds] = T-1\n",
    "                \n",
    "            desired_spike_bin[0][spike_time] = 1\n",
    "            desired_spike_bin[1][shifted_time] = 1\n",
    "            desired_spike_train.append(np.sort(spike_time))\n",
    "            desired_spike_train.append(np.sort(shifted_time))\n",
    "        else:\n",
    "            for i in range(n):\n",
    "                spike_time = random.sample(range(spike_range[0], spike_range[1]), int(spike_count[i]))\n",
    "                desired_spike_bin[i][spike_time] = 1\n",
    "                desired_spike_train.append(np.sort(spike_time))\n",
    "    \n",
    "    \n",
    "    return desired_spike_bin, desired_spike_train "
   ]
  },
  {
   "cell_type": "markdown",
   "metadata": {},
   "source": [
    "# Cálculo da Dissimilaridade e suas funções auxiliares:"
   ]
  },
  {
   "cell_type": "code",
   "execution_count": 5,
   "metadata": {},
   "outputs": [],
   "source": [
    "# Tempos do spike antecessor ao instante t\n",
    "def tP(t, neuron_spike_times):\n",
    "    res = neuron_spike_times[np.where(neuron_spike_times <= t)]\n",
    "    if(res.shape[0] == 0):\n",
    "        return 0\n",
    "    else:\n",
    "        return max(res)\n",
    "\n",
    "# Tempos do spike sucessor ao instante t   \n",
    "def tF(t, neuron_spike_times):\n",
    "    res = neuron_spike_times[np.where(neuron_spike_times > t)]\n",
    "    if(res.shape[0] == 0):\n",
    "        return 0\n",
    "    else:\n",
    "        return min(res)\n",
    "    \n",
    "# Intervalo entre spikes instantaneo\n",
    "def x_isi(t, neuron_spike_times):\n",
    "    return tF(t, neuron_spike_times)-tP(t, neuron_spike_times)\n",
    "\n",
    "def media_x_isi(t, spike_times):\n",
    "       \n",
    "    return 0.5*(x_isi(t, spike_times[0])+x_isi(t, spike_times[1]))\n",
    "\n",
    "# Diferencas absolutas entre sucessores e antecessores\n",
    "def delta_tP(t, spike_times):\n",
    "    return abs(tP(t, spike_times[0])-tP(t, spike_times[1]))\n",
    "\n",
    "def delta_tF(t, spike_times):\n",
    "    return abs(tF(t, spike_times[0])-tF(t, spike_times[1]))\n",
    "\n",
    "# Intervalos para os spikes antecessores e sucessores\n",
    "def xP(t, neuron_spike_times):\n",
    "    return t - tP(t, neuron_spike_times)\n",
    "\n",
    "def xF(t, neuron_spike_times):\n",
    "    return tF(t, neuron_spike_times) - t\n",
    "\n",
    "def media_xp(t, spike_times):\n",
    "    return 0.5*(xP(t, spike_times[0]) + xP(t, spike_times[1]))\n",
    "\n",
    "def media_xf(t, spike_times):\n",
    "    return 0.5*(xF(t, spike_times[0]) + xF(t, spike_times[1]))\n",
    "\n",
    "# Perfil de dissimiliaridade entre os spike trains - original\n",
    "def So(t, spike_times):\n",
    "    numerador = (delta_tP(t, spike_times)*media_xf(t, spike_times))+(delta_tF(t, spike_times)*media_xp(t, spike_times))\n",
    "    denominador = media_x_isi(t, spike_times)**2\n",
    "    return numerador/denominador\n",
    "\n",
    "# Calcula a Dissimilaridade Normalizada [0, 1] dos perfis encontrados\n",
    "def Dissimilarity(spike_times):\n",
    "    count_negatives = 0\n",
    "    S_original = np.zeros(T)\n",
    "    for t in range(T):\n",
    "        S_original[t] = So(t, spike_times)\n",
    "        if (S_original[t] < 0):\n",
    "            count_negatives += 1\n",
    "    S_original_norm = (S_original-min(S_original))/(max(S_original)-min(S_original))\n",
    "    \n",
    "    return S_original_norm, count_negatives\n",
    "\n",
    "# Dissimilaridade Total Media: Como estamos em tempo discreto, é apenas um somatório. Em tempo contínuo seria a integral dos perfis de dissimilaridade\n",
    "def D_total (d_profile):\n",
    "    return np.mean(d_profile)\n",
    "\n",
    "def print_spikes(spikes, diss, T):\n",
    "    # plot\n",
    "    fig, (ax1, ax2, ax3) = plt.subplots(3, 1, figsize=(8, 10))\n",
    "\n",
    "    ax1.set_ylabel(\"ST1 Spikes\")\n",
    "    ax1.step(range(T), spikes[0], linewidth=2.0)\n",
    "\n",
    "    ax2.set_ylabel(\"ST2 Spikes\")\n",
    "    ax2.step(range(T), spikes[1], linewidth=2.0)\n",
    "\n",
    "    ax3.set_ylabel(\"Dissimilaridade entre ST1 e ST2\")\n",
    "    ax3.plot(range(T), diss, linewidth=2.0)\n",
    "\n",
    "    plt.show()"
   ]
  },
  {
   "cell_type": "markdown",
   "metadata": {},
   "source": [
    "# Execução de casos para compreensão prática do cálculo da dissimilaridade:"
   ]
  },
  {
   "cell_type": "markdown",
   "metadata": {},
   "source": [
    "## Caso 1: Dois spikes aleatorios"
   ]
  },
  {
   "cell_type": "code",
   "execution_count": 7,
   "metadata": {},
   "outputs": [
    {
     "name": "stdout",
     "output_type": "stream",
     "text": [
      "[array([ 1,  2,  3,  4,  5,  6,  7,  9, 12, 13, 14, 16, 17, 19, 20, 21, 22,\n",
      "       23, 24, 25, 26, 27, 28, 29, 30, 31, 32, 34, 35, 36, 37, 38, 41, 43,\n",
      "       44, 45, 48, 49, 51, 52, 53, 54, 55, 56, 57, 58, 59, 62, 63, 64, 65,\n",
      "       66, 67, 68, 69, 70, 71, 72, 74, 75, 76, 77, 78, 79, 80, 81, 82, 84,\n",
      "       85, 89, 91, 93, 95, 96, 97, 98, 99]), array([ 9, 10, 27, 30, 31, 49, 65, 82])]\n"
     ]
    },
    {
     "data": {
      "image/png": "[encoded data removed]",
      "text/plain": [
       "<Figure size 576x720 with 3 Axes>"
      ]
     },
     "metadata": {
      "needs_background": "light"
     },
     "output_type": "display_data"
    },
    {
     "name": "stdout",
     "output_type": "stream",
     "text": [
      "Dissimilaridade Total entre ST1 e ST2: 0.2974178310952029\n"
     ]
    }
   ],
   "source": [
    "# Definição dos parâmetros iniciais:\n",
    "\n",
    "n = 2  # Quantidade de spike trains a comparar\n",
    "T = 100 # Tempo total de simulação\n",
    "\n",
    "# Geração de 2 Spike Trains\n",
    "st_count = spike_count_generator(n, T)\n",
    "ST_bin, STs = spike_times_generator(spike_count=st_count, n=n, T=T)\n",
    "\n",
    "print(STs)\n",
    "\n",
    "S_original_norm, _ = Dissimilarity(STs) \n",
    "print_spikes(ST_bin, S_original_norm, T)\n",
    "print(\"Dissimilaridade Total entre ST1 e ST2: {}\".format(sum(S_original_norm)/(2*T))) "
   ]
  },
  {
   "cell_type": "markdown",
   "metadata": {},
   "source": [
    "## Caso 2: Spikes Identicos. Avaliando qual deve ser a dissimilaridade quando temos spikes iguais."
   ]
  },
  {
   "cell_type": "code",
   "execution_count": null,
   "metadata": {},
   "outputs": [],
   "source": [
    "# Definição dos parâmetros iniciais:\n",
    "\n",
    "n = 2  # Quantidade de spike trains a comparar\n",
    "T = 100 # Tempo total de simulação\n",
    "\n",
    "# Geração de 2 Spike Trains\n",
    "st_count = spike_count_generator(n, T)\n",
    "ST_bin, STs = spike_times_generator(spike_count=st_count, n=n, T=T, duplicate=True)\n",
    "\n",
    "print(STs)\n",
    "\n",
    "S_original_norm, _ = Dissimilarity(STs) \n",
    "print_spikes(ST_bin, S_original_norm, T)\n",
    "print(\"Dissimilaridade Total entre ST1 e ST2: {}\".format(sum(S_original_norm)/(2*T))) "
   ]
  },
  {
   "cell_type": "markdown",
   "metadata": {},
   "source": [
    "## Caso 3.0: Spikes Complementares Aleatórios. Nesse caso eles são 100% diferentes em tempos de disparo. O perfil de dissimilaridade assume valores negativos."
   ]
  },
  {
   "cell_type": "code",
   "execution_count": null,
   "metadata": {},
   "outputs": [],
   "source": [
    "# Definição dos parâmetros iniciais:\n",
    "\n",
    "n = 2  # Quantidade de spike trains a comparar\n",
    "T = 100 # Tempo total de simulação\n",
    "\n",
    "# Geração de 2 Spike Trains\n",
    "st_count = spike_count_generator(n, T)\n",
    "ST_bin, STs = spike_times_generator(spike_count=st_count, n=n, T=T, complementary_spikes=True)\n",
    "\n",
    "print(STs)\n",
    "\n",
    "S_original_norm, _ = Dissimilarity(STs) \n",
    "print_spikes(ST_bin, S_original_norm, T)\n",
    "print(\"Dissimilaridade Total entre ST1 e ST2: {}\".format(sum(S_original_norm)/(2*T))) "
   ]
  },
  {
   "cell_type": "markdown",
   "metadata": {},
   "source": [
    "## Caso 3.1: Spikes Complementares, sendo um completo de 1s e outro de 0s."
   ]
  },
  {
   "cell_type": "code",
   "execution_count": null,
   "metadata": {},
   "outputs": [],
   "source": [
    "# Definição dos parâmetros iniciais:\n",
    "\n",
    "n = 2  # Quantidade de spike trains a comparar\n",
    "T = 100 # Tempo total de simulação\n",
    "\n",
    "# Geração de 2 Spike Trains\n",
    "st_count = spike_count_generator(n, T, make_full_st=True, make_zero_st=True)\n",
    "ST_bin, STs = spike_times_generator(spike_count=st_count, n=n, T=T)\n",
    "\n",
    "print(STs)\n",
    "\n",
    "S_original_norm, _ = Dissimilarity(STs) \n",
    "print_spikes(ST_bin, S_original_norm, T)\n",
    "print(\"Dissimilaridade Total entre ST1 e ST2: {}\".format(sum(S_original_norm)/(2*T))) "
   ]
  },
  {
   "cell_type": "markdown",
   "metadata": {},
   "source": [
    "## Caso 4.1: (Teste com spikes extremos): Um Spike de 1s e outro aleatório. Aqui o perfil contém valores negativos."
   ]
  },
  {
   "cell_type": "code",
   "execution_count": null,
   "metadata": {},
   "outputs": [],
   "source": [
    "# Definição dos parâmetros iniciais:\n",
    "\n",
    "n = 2  # Quantidade de spike trains a comparar\n",
    "T = 100 # Tempo total de simulação\n",
    "\n",
    "# Geração de 2 Spike Trains\n",
    "st_count = spike_count_generator(n, T, make_full_st=True)\n",
    "ST_bin, STs = spike_times_generator(spike_count=st_count, n=n, T=T)\n",
    "\n",
    "print(STs)\n",
    "\n",
    "S_original_norm, _ = Dissimilarity(STs) \n",
    "print_spikes(ST_bin, S_original_norm, T)\n",
    "print(\"Dissimilaridade Total entre ST1 e ST2: {}\".format(sum(S_original_norm)/(2*T))) "
   ]
  },
  {
   "cell_type": "markdown",
   "metadata": {},
   "source": [
    "## Caso 4.2 (Teste com spikes extremos): Um Spike de 0s e outro aleatório."
   ]
  },
  {
   "cell_type": "code",
   "execution_count": null,
   "metadata": {},
   "outputs": [],
   "source": [
    "# Definição dos parâmetros iniciais:\n",
    "\n",
    "n = 2  # Quantidade de spike trains a comparar\n",
    "T = 100 # Tempo total de simulação\n",
    "\n",
    "# Geração de 2 Spike Trains\n",
    "st_count = spike_count_generator(n, T, make_zero_st=True)\n",
    "ST_bin, STs = spike_times_generator(spike_count=st_count, n=n, T=T)\n",
    "\n",
    "print(STs)\n",
    "\n",
    "S_original_norm, _ = Dissimilarity(STs) \n",
    "print_spikes(ST_bin, S_original_norm, T)\n",
    "print(\"Dissimilaridade Total entre ST1 e ST2: {}\".format(sum(S_original_norm)/(2*T))) "
   ]
  },
  {
   "cell_type": "markdown",
   "metadata": {},
   "source": [
    "## Caso 5.1: Dois spikes com desvio de 1 unidade de tempo, para todos os instantes. Aqui, ST1 atrasado em 1 unidade de ST2."
   ]
  },
  {
   "cell_type": "code",
   "execution_count": null,
   "metadata": {},
   "outputs": [],
   "source": [
    "# Definição dos parâmetros iniciais:\n",
    "\n",
    "n = 2  # Quantidade de spike trains a comparar\n",
    "T = 100 # Tempo total de simulação\n",
    "\n",
    "# Geração de 2 Spike Trains\n",
    "st_count = spike_count_generator(n, T)\n",
    "ST_bin, STs = spike_times_generator(spike_count=st_count, n=n, T=T, time_shift=True, shift_step=1)\n",
    "\n",
    "print(STs)\n",
    "\n",
    "S_original_norm, _ = Dissimilarity(STs) \n",
    "print_spikes(ST_bin, S_original_norm, T)\n",
    "print(\"Dissimilaridade Total entre ST1 e ST2: {}\".format(sum(S_original_norm)/(2*T))) "
   ]
  },
  {
   "cell_type": "markdown",
   "metadata": {},
   "source": [
    "## Caso 5.2: Dois spikes com desvio de 1 unidade de tempo, para todos os instantes. Aqui, ST1 adiantado em 1 unidade de ST2."
   ]
  },
  {
   "cell_type": "code",
   "execution_count": null,
   "metadata": {},
   "outputs": [],
   "source": [
    "# Definição dos parâmetros iniciais:\n",
    "\n",
    "n = 2  # Quantidade de spike trains a comparar\n",
    "T = 100 # Tempo total de simulação\n",
    "\n",
    "# Geração de 2 Spike Trains\n",
    "st_count = spike_count_generator(n, T)\n",
    "ST_bin, STs = spike_times_generator(spike_count=st_count, n=n, T=T, time_shift=True, shift_step=-1)\n",
    "\n",
    "print(STs)\n",
    "\n",
    "S_original_norm, _ = Dissimilarity(STs) \n",
    "print_spikes(ST_bin, S_original_norm, T)\n",
    "print(\"Dissimilaridade Total entre ST1 e ST2: {}\".format(sum(S_original_norm)/(2*T))) "
   ]
  },
  {
   "cell_type": "markdown",
   "metadata": {},
   "source": [
    "# Análise dos valores negativos de dissimilaridade em função do tempo de simulação:"
   ]
  },
  {
   "cell_type": "code",
   "execution_count": 19,
   "metadata": {},
   "outputs": [],
   "source": [
    "times = [5, 10, 20, 30, 40, 50, 60, 70, 80, 90, 100, 200, 400, 800, 1000]\n",
    "negatives_diss = []\n",
    "# Escolha de um caso encontrando negativos: Complementares Aleatórios\n",
    "n = 2  # Quantidade de spike trains a comparar\n",
    "\n",
    "for T in times:\n",
    "    # Geração de 2 Spike Trains\n",
    "    st_count = spike_count_generator(n, T, make_full_st=True)\n",
    "    ST_bin, STs = spike_times_generator(spike_count=st_count, n=n, T=T)\n",
    "\n",
    "    S_original_norm, negatives = Dissimilarity(STs) \n",
    "    negatives_diss.append(negatives)\n",
    "    #print_spikes(ST_bin, S_original_norm, T)\n",
    "    #print(\"Dissimilaridade Total entre ST1 e ST2: {}\".format(sum(S_original_norm)/(2*T))) \n",
    "    "
   ]
  },
  {
   "cell_type": "code",
   "execution_count": 20,
   "metadata": {},
   "outputs": [
    {
     "data": {
      "image/png": "[encoded data removed]",
      "text/plain": [
       "<Figure size 720x432 with 1 Axes>"
      ]
     },
     "metadata": {
      "needs_background": "light"
     },
     "output_type": "display_data"
    }
   ],
   "source": [
    "fig, ax = plt.subplots(figsize=(10, 6))\n",
    "\n",
    "ax.set_ylabel(\"Volume de valores negativos por tempo de simulação\")\n",
    "ax.plot(times, negatives_diss, linewidth=2.0)\n",
    "\n",
    "plt.show()"
   ]
  },
  {
   "cell_type": "code",
   "execution_count": null,
   "metadata": {},
   "outputs": [],
   "source": []
  }
 ],
 "metadata": {
  "interpreter": {
   "hash": "e43dd8bb75c62a6ecf1af3f36a5e1d06e418643f35b874ce51f57c1f90762855"
  },
  "kernelspec": {
   "display_name": "Python 3.7.10 64-bit ('snn-pso': conda)",
   "name": "python3"
  },
  "language_info": {
   "codemirror_mode": {
    "name": "ipython",
    "version": 3
   },
   "file_extension": ".py",
   "mimetype": "text/x-python",
   "name": "python",
   "nbconvert_exporter": "python",
   "pygments_lexer": "ipython3",
   "version": "3.7.10"
  },
  "orig_nbformat": 4
 },
 "nbformat": 4,
 "nbformat_minor": 2
}
