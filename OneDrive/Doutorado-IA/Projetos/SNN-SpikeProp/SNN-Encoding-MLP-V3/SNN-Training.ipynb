{
 "cells": [
  {
   "cell_type": "markdown",
   "metadata": {},
   "source": [
    "# Juntando as etapas descritas anteriormente em apenas duas partes: Forward Pass e BackPropagation"
   ]
  },
  {
   "cell_type": "markdown",
   "metadata": {},
   "source": [
    "## Bibliotecas utilizadas:"
   ]
  },
  {
   "cell_type": "code",
   "execution_count": 319,
   "metadata": {},
   "outputs": [],
   "source": [
    "## Libraries used\n",
    "import math\n",
    "import numpy as np\n",
    "import random\n",
    "from keras.datasets import mnist\n",
    "import matplotlib.pyplot as plt\n"
   ]
  },
  {
   "cell_type": "markdown",
   "metadata": {},
   "source": [
    "## Parte 0: Definição dos valores esperados para impulsos."
   ]
  },
  {
   "cell_type": "code",
   "execution_count": 320,
   "metadata": {},
   "outputs": [],
   "source": [
    "###########################################################################################\n",
    "# A geração dos spike trains esperados para a rede neural, a priori, não é definido por um conjunto de valores fixos.\n",
    "# Cada classe é representada por um array de 100 posições com valores inteiros, representando cada momento em que um spike foi gerado ou não.\n",
    "# Para não criar um viés na definição e deixar o mais \"randômico\" possível, para cada classe esperada (0 a 9), serão geradas \n",
    "# sequências de valores aleatórios dentro de intervalos definidos para cada classe:\n",
    "# Classe 0: Intervalo de valores inteiros de 0 a 9\n",
    "# Classe 1: Intervalo de valores inteiros de 10 a 19\n",
    "# Classe 2: Intervalo de valores inteiros de 20 a 29\n",
    "# Classe 3: Intervalo de valores inteiros de 30 a 39\n",
    "# Classe 4: Intervalo de valores inteiros de 40 a 49\n",
    "# Classe 5: Intervalo de valores inteiros de 50 a 59\n",
    "# Classe 6: Intervalo de valores inteiros de 60 a 69\n",
    "# Classe 7: Intervalo de valores inteiros de 70 a 79\n",
    "# Classe 8: Intervalo de valores inteiros de 80 a 89\n",
    "# Classe 9: Intervalo de valores inteiros de 90 a 99\n",
    "# Dessa forma a união dos intervalos vai corresponder ao intervalo completo de simulação, que no caso é de 100 passos (\"ms\")\n",
    "def spike_interval_generator(number_of_classes=10, simulation_time=100, class_idx=-1):\n",
    "    interval = []\n",
    "    for i in range(number_of_classes):\n",
    "        interval.append((i*int((simulation_time/number_of_classes)),-1 + ((i+1)*int((simulation_time/number_of_classes)))))\n",
    "        \n",
    "    if (class_idx >= 0): #Retorna apenas o intervalo correspondente da classe escolhida\n",
    "        return interval[class_idx]\n",
    "    \n",
    "    return interval\n",
    "\n",
    "###########################################################################################\n",
    "## Spike Count Generator for Desired spikes\n",
    "def spike_count_generator(number_of_classes=10, simulation_time=100, class_idx=-1):\n",
    "    spike_counts_per_class = np.zeros(number_of_classes)\n",
    "    \n",
    "    for i in range(number_of_classes):\n",
    "        spike_counts_per_class[i] = np.random.randint(0, number_of_classes)\n",
    "        \n",
    "    if (class_idx >= 0):#Retorna apenas as contagens correspondentes da classe escolhida\n",
    "        return spike_counts_per_class[class_idx]\n",
    "    \n",
    "    return spike_counts_per_class\n",
    "\n",
    "###########################################################################################\n",
    "## Spike Times Generator for Desired spikes\n",
    "def spike_times_generator(spike_range, spike_count, class_idx):\n",
    "    desired_spike_times = []\n",
    "    desired_spike_times = np.zeros((input_params['num_classes'], input_params['lif_simulation_time']))\n",
    "    num_classes = input_params['num_classes']\n",
    "    \n",
    "    for i in range(num_classes):\n",
    "        spike_time = random.sample(range(spike_range[i][0], spike_range[i][1]), int(spike_count[i]))\n",
    "        desired_spike_times[i][spike_time] = 1\n",
    "    \n",
    "    if (class_idx >= 0):\n",
    "        return  desired_spike_times[class_idx]\n",
    "    \n",
    "    return desired_spike_times"
   ]
  },
  {
   "cell_type": "markdown",
   "metadata": {},
   "source": [
    "## Parte 1: Forward Pass. Corresponde a todas as etapas necessárias para mapear uma amostra no sinal de erro da rede neural."
   ]
  },
  {
   "cell_type": "code",
   "execution_count": 321,
   "metadata": {},
   "outputs": [],
   "source": [
    "###########################################################################################\n",
    "## Image patches extraction\n",
    "def patches_extraction(image, stride, patch_size):\n",
    "    patches = []\n",
    "    num_patches = 0\n",
    "    ci = 0\n",
    "    n = image.shape[1]\n",
    "    while(ci < n):\n",
    "        cj = 0\n",
    "        while(cj < n):\n",
    "            pivot = (ci, cj)\n",
    "            if(pivot[0]+patch_size >= n or pivot[1]+patch_size >= n):\n",
    "                cj += stride\n",
    "            else:\n",
    "                patch = image[pivot[0]:pivot[0]+patch_size, pivot[1]:pivot[1]+patch_size]\n",
    "                patches.append(patch)\n",
    "                num_patches += 1\n",
    "                cj += stride\n",
    "        ci += stride\n",
    "    input_params['encoding_layer_neurons_num'] = num_patches\n",
    "    return np.asarray(patches)\n",
    "\n",
    "###########################################################################################\n",
    "## Encoding Synaptic Current\n",
    "def encoding_synaptic_current(patches, encoding_weights):\n",
    "    num_patches = input_params['encoding_layer_neurons_num']\n",
    "    synaptic_current = np.zeros(num_patches)\n",
    "    patch_size = input_params['patch_size']\n",
    "    for p in range(num_patches):\n",
    "        acc = 0\n",
    "        for i in range(patch_size):\n",
    "            for j in range(patch_size):\n",
    "                acc += (patches[p][i][j]*encoding_weights[p][i][j])/input_params['lif_enc_spike_current']\n",
    "        synaptic_current[p] = acc\n",
    "        \n",
    "    input_params['encoding_current'] = synaptic_current\n",
    "    #print(max(synaptic_current))\n",
    "    return synaptic_current\n",
    "\n",
    "###########################################################################################\n",
    "## MLP Synaptic Current\n",
    "def mlp_synaptic_current(encoding_spike_train, mlp_weights):\n",
    "    synaptic_current = []\n",
    "    for neuron in range(input_params['num_classes']):\n",
    "        current = 0\n",
    "        for u in range(input_params['encoding_layer_neurons_num']):\n",
    "            for s in range(input_params['lif_simulation_time']):\n",
    "                current += (encoding_spike_train[u][s] * mlp_weights[neuron][u][s])/input_params['lif_mlp_spike_current']\n",
    "        synaptic_current.append(current)\n",
    "    input_params['mlp_current'] = np.asarray(synaptic_current)\n",
    "    return np.asarray(synaptic_current)\n",
    "\n",
    "###########################################################################################\n",
    "## LIF Neuron Potential Dynamics\n",
    "def lif_activation(R, I, V_rest, V0, tao, t):\n",
    "    return (V_rest+(R*I))+(V_rest-(R*I)-V0)*math.exp((-1*t)/(tao))\n",
    "\n",
    "\n",
    "def integrate_and_fire_spikes(lif_R, lif_tao, lif_rest_voltage, lif_start_voltage, lif_threshold, I_syn, time_duration):\n",
    "    spike_train = []\n",
    "    spike_time = []\n",
    "    spike_count = 0\n",
    "    lif_timer = 0\n",
    "    \n",
    "    for t in range(time_duration):\n",
    "        new_voltage = lif_activation(lif_R, I_syn, lif_rest_voltage, lif_start_voltage, lif_tao, lif_timer)\n",
    "        #print('Membrane potential:', new_voltage)\n",
    "        if (new_voltage >= lif_threshold):\n",
    "            spike_train.append(1)\n",
    "            spike_time.append(t)\n",
    "            spike_count += 1\n",
    "            lif_timer = 0\n",
    "        else:\n",
    "            spike_train.append(0)\n",
    "            lif_timer += 1\n",
    "            \n",
    "    return np.asarray(spike_train), np.asarray(spike_time), spike_count\n",
    "\n",
    "###########################################################################################\n",
    "## Spikes Generation\n",
    "def spikes_generation(layer_name, input_current, neuron_resistance, time_constant, rest_potential, start_potential, threshold, simulation_time):\n",
    "    st = []\n",
    "    st_times = []\n",
    "    st_count = []\n",
    "\n",
    "    if(layer_name == 'mlp'):\n",
    "        iteration_set = input_params['num_classes']\n",
    "        spike_train_param = 'mlp_spikes'\n",
    "        spike_time_param  = 'mlp_spike_times'\n",
    "        spike_count_param = 'mlp_spike_count'\n",
    "    else: # 'encoding'\n",
    "        iteration_set = input_params['encoding_layer_neurons_num']\n",
    "        spike_train_param = 'encoding_spikes'\n",
    "        spike_time_param  = 'encoding_spike_times'\n",
    "        spike_count_param = 'encoding_spike_count'\n",
    "    \n",
    "    for neuron in range(iteration_set):\n",
    "        spikes, spike_times, spike_count = integrate_and_fire_spikes(lif_R=neuron_resistance, \n",
    "                                                                        lif_tao=time_constant,\n",
    "                                                                        lif_rest_voltage=rest_potential, \n",
    "                                                                        lif_start_voltage=start_potential, \n",
    "                                                                        lif_threshold=threshold, \n",
    "                                                                        I_syn=input_current[neuron], \n",
    "                                                                        time_duration=simulation_time)\n",
    "        st.append(spikes)\n",
    "        st_times.append(spike_times)\n",
    "        st_count.append(spike_count)\n",
    "\n",
    "    st = np.asarray(st)\n",
    "    st_times = np.asarray(st_times)\n",
    "    st_count = np.asarray(st_count)\n",
    "\n",
    "    input_params[spike_train_param] = st\n",
    "    input_params[spike_time_param] = st_times\n",
    "    input_params[spike_count_param] = st_count\n",
    "    \n",
    "    return st, st_times, st_count\n",
    "\n",
    "###########################################################################################\n",
    "## Error signal Evaluation\n",
    "def evaluate_error_signal(desired_spikes, model_spikes):\n",
    "    return desired_spikes - model_spikes\n",
    "\n",
    "###########################################################################################\n",
    "## Instantaneous error energy value\n",
    "def error_energy_value(error_signal):\n",
    "    sqr_error = 0\n",
    "    for k in range(input_params['num_classes']):\n",
    "        for t in range(input_params['lif_simulation_time']):\n",
    "            sqr_error += (error_signal[k][t])**2\n",
    "    return 0.5*sqr_error"
   ]
  },
  {
   "cell_type": "code",
   "execution_count": 322,
   "metadata": {},
   "outputs": [
    {
     "name": "stdout",
     "output_type": "stream",
     "text": [
      "3\n"
     ]
    },
    {
     "data": {
      "text/plain": [
       "[<matplotlib.lines.Line2D at 0x1e5982cb588>]"
      ]
     },
     "execution_count": 322,
     "metadata": {},
     "output_type": "execute_result"
    },
    {
     "data": {
      "image/png": "[encoded data removed]",
      "text/plain": [
       "<Figure size 432x288 with 1 Axes>"
      ]
     },
     "metadata": {
      "needs_background": "light"
     },
     "output_type": "display_data"
    }
   ],
   "source": [
    "# Analise do potencial da membrana\n",
    "spike_train = []\n",
    "spike_time = []\n",
    "spike_count = 0\n",
    "\n",
    "I_syn = np.zeros(100)\n",
    "potential = []\n",
    "\n",
    "I = 2\n",
    "\n",
    "for i in range(100):\n",
    "    I_syn[i] = I\n",
    "\n",
    "timer = 0\n",
    "for t in range(100):\n",
    "   vt = lif_activation(10, I_syn[i], -65, 0, 10, timer)\n",
    "   if (vt >= -50):\n",
    "       vt = -65\n",
    "       timer = 0\n",
    "       potential.append(vt)\n",
    "       spike_train.append(1)\n",
    "       spike_time.append(t)\n",
    "       spike_count += 1\n",
    "   else:\n",
    "       spike_train.append(0)\n",
    "       potential.append(vt)\n",
    "       timer += 1\n",
    "    \n",
    "potential = np.asarray(potential)\n",
    "print(spike_count)\n",
    "plt.plot(potential)\n"
   ]
  },
  {
   "cell_type": "markdown",
   "metadata": {},
   "source": [
    "## Parte 1.1: Função Forward Pass. "
   ]
  },
  {
   "cell_type": "code",
   "execution_count": 323,
   "metadata": {},
   "outputs": [],
   "source": [
    "###########################################################################################\n",
    "## Forward Pass Main Function. It maps one sample from the set into the error_signal and \n",
    "## error energy.\n",
    "def forwardPass(input_sample, encoding_weights, mlp_weights):\n",
    "    patches = patches_extraction(input_sample, patch_size=input_params['patch_size'], stride=input_params['stride'])\n",
    "    encoding_current = encoding_synaptic_current(patches, encoding_weights)\n",
    "    encoding_st, encoding_st_times, encoding_st_count = spikes_generation(layer_name='encoding', input_current=encoding_current,\n",
    "                                                                          neuron_resistance=input_params['lif_enc_resistance'], \n",
    "                                                                          time_constant=input_params['lif_enc_tao'], \n",
    "                                                                          rest_potential=input_params['lif_enc_rest_potential'], \n",
    "                                                                          start_potential=input_params['lif_enc_start_potential'],\n",
    "                                                                          threshold=input_params['lif_enc_threshold'], \n",
    "                                                                          simulation_time=input_params['lif_simulation_time'])\n",
    "    mlp_current = mlp_synaptic_current(encoding_st, mlp_weights)\n",
    "    mlp_st, mlp_st_times, mlp_st_count = spikes_generation(layer_name='mlp', input_current=mlp_current,\n",
    "                                                                          neuron_resistance=input_params['lif_mlp_resistance'], \n",
    "                                                                          time_constant=input_params['lif_mlp_tao'], \n",
    "                                                                          rest_potential=input_params['lif_mlp_rest_potential'], \n",
    "                                                                          start_potential=input_params['lif_mlp_start_potential'],\n",
    "                                                                          threshold=input_params['lif_mlp_threshold'], \n",
    "                                                                          simulation_time=input_params['lif_simulation_time'])\n",
    "    error_signal = evaluate_error_signal(input_params['desired_spikes'], mlp_st)\n",
    "    error_energy = error_energy_value(error_signal)\n",
    "    return error_signal, error_energy, encoding_current, mlp_current"
   ]
  },
  {
   "cell_type": "markdown",
   "metadata": {},
   "source": [
    "## Parte 2: Backward Pass: Backpropagation. Corresponde a todas as etapas que usam o sinal de erro para promover os ajustes de pesos sinápticos"
   ]
  },
  {
   "cell_type": "code",
   "execution_count": 324,
   "metadata": {},
   "outputs": [],
   "source": [
    "###########################################################################################\n",
    "## LIF Activation Derivative\n",
    "def lif_activation_derivative(R, I, V_rest, V0, tao, t):\n",
    "    return ((V_rest+(R*I)+V0)*math.exp((-1*t)/(tao)))/tao  \n",
    "\n",
    "###########################################################################################\n",
    "## MLP Local Gradient Evaluation\n",
    "def mlp_local_gradient(sample_error_signal, mlp_current):\n",
    "    local_gradient = np.zeros((input_params['num_classes'], input_params['lif_simulation_time']))\n",
    "    for k in range(input_params['num_classes']):\n",
    "        for t in range(input_params['lif_simulation_time']):\n",
    "            local_gradient[k][t] = (-1)*sample_error_signal[k][t]*lif_activation_derivative(R     = input_params['lif_mlp_resistance'],\n",
    "                                                                                            I     = mlp_current[k], \n",
    "                                                                                            V_rest= input_params['lif_mlp_rest_potential'], \n",
    "                                                                                            V0    = input_params['lif_mlp_start_potential'], \n",
    "                                                                                            tao   = input_params['lif_mlp_tao'], \n",
    "                                                                                            t     = t)\n",
    "    return local_gradient\n",
    "\n",
    "###########################################################################################\n",
    "## Encoding Local Gradient Evaluation\n",
    "def enc_local_gradient(mlp_gradients, mlp_weights, encoding_current):\n",
    "    local_gradient = np.zeros((input_params['encoding_layer_neurons_num']))\n",
    "    for e in range(input_params['encoding_layer_neurons_num']):\n",
    "        acc = 0\n",
    "        for k in range(input_params['num_classes']):\n",
    "            for t in range(input_params['lif_simulation_time']):\n",
    "                acc += mlp_gradients[k][t]*mlp_weights[k][e][t]\n",
    "        local_gradient[e] = acc*lif_activation_derivative(R      = input_params['lif_enc_resistance'],\n",
    "                                                          I      = encoding_current[e], \n",
    "                                                          V_rest = input_params['lif_enc_rest_potential'], \n",
    "                                                          V0     = input_params['lif_enc_start_potential'], \n",
    "                                                          tao    = input_params['lif_enc_tao'], \n",
    "                                                          t      = t)\n",
    "    return local_gradient\n",
    "\n",
    "###########################################################################################\n",
    "## Delta Rule for MLP Layer\n",
    "def mlp_delta_rule(mlp_gradient, mlp_output):\n",
    "    return input_params['learning_rate']*mlp_gradient*mlp_output\n",
    "\n",
    "###########################################################################################\n",
    "## Delta Rule for Encoding Layer\n",
    "def encoding_delta_rule(encoding_gradient, encoding_output):\n",
    "    delta = []\n",
    "    for d in range(input_params['encoding_layer_neurons_num']):\n",
    "        delta.append(input_params['learning_rate']*encoding_gradient[d]*encoding_output[d])\n",
    "    return np.asarray(delta)\n",
    "\n",
    "###########################################################################################\n",
    "## Compute New Weights for MLP Layer\n",
    "def compute_new_mlp_weights(mlp_weights, delta):\n",
    "    new_weights = []\n",
    "    for d in range(input_params['encoding_layer_neurons_num']):\n",
    "        new_weights.append(mlp_weights[:, d]+delta)\n",
    "    return np.reshape(np.asarray(new_weights), (input_params['num_classes'], input_params['encoding_layer_neurons_num'], input_params['lif_simulation_time']))\n",
    "\n",
    "###########################################################################################\n",
    "## Compute New Weights for Encoding Layer\n",
    "def compute_new_enc_weights(enc_weights, delta):\n",
    "    new_weights = []\n",
    "    for d in range(input_params['encoding_layer_neurons_num']):\n",
    "        new_weights.append(enc_weights[d]+delta[d])\n",
    "    return np.asarray(new_weights)\n"
   ]
  },
  {
   "cell_type": "markdown",
   "metadata": {},
   "source": [
    "## Parte 2.1: Função de Backpropagation"
   ]
  },
  {
   "cell_type": "code",
   "execution_count": 325,
   "metadata": {},
   "outputs": [],
   "source": [
    "###########################################################################################\n",
    "## Backpropagation function. It uses the error signal and energy to provide new synaptic\n",
    "## weights adjustments.\n",
    "def spike_backpropagation(error_signal, encoding_current, mlp_current):\n",
    "    mlp_local_grad = mlp_local_gradient(error_signal, mlp_current)\n",
    "    enc_local_grad = enc_local_gradient(mlp_local_grad, input_params['mlp_weights'], encoding_current)\n",
    "    mlp_delta = mlp_delta_rule(mlp_local_grad, input_params['mlp_spikes'])\n",
    "    enc_delta = encoding_delta_rule(enc_local_grad, input_params['encoding_spike_count'])\n",
    "    new_mlp_W = compute_new_mlp_weights(input_params['mlp_weights'], mlp_delta)\n",
    "    new_enc_W = compute_new_enc_weights(input_params['encoding_weights'], enc_delta)\n",
    "    return new_mlp_W, new_enc_W"
   ]
  },
  {
   "cell_type": "markdown",
   "metadata": {},
   "source": [
    "# Execução do bloco principal do algoritmo de treinamento:"
   ]
  },
  {
   "cell_type": "markdown",
   "metadata": {},
   "source": [
    "## Definição de parâmetros utilizados pela SNN:"
   ]
  },
  {
   "cell_type": "code",
   "execution_count": 326,
   "metadata": {},
   "outputs": [],
   "source": [
    "## Definition of a set of parameters that will be used for analysis and code recycling too.\n",
    "input_params = {}"
   ]
  },
  {
   "cell_type": "code",
   "execution_count": 331,
   "metadata": {},
   "outputs": [],
   "source": [
    "# Image Patch size\n",
    "input_params['patch_size'] = 5\n",
    "input_params['stride'] = 1\n",
    "input_params['patches_set'] = 529\n",
    "\n",
    "# Time duration for spikes generation on LIF neurons\n",
    "input_params['lif_simulation_time'] = 100\n",
    "\n",
    "# Biological parameters for Encoding and MLP Lif Neurons\n",
    "input_params['lif_enc_resistance'] = 10\n",
    "input_params['lif_enc_tao'] = 10\n",
    "input_params['lif_enc_threshold'] = -50\n",
    "input_params['lif_enc_rest_potential'] = -65\n",
    "input_params['lif_enc_start_potential'] = 0\n",
    "input_params['lif_enc_spike_current'] = 10*(input_params['lif_enc_threshold']-input_params['lif_enc_rest_potential'])/input_params['lif_enc_resistance']\n",
    "\n",
    "input_params['lif_mlp_resistance'] = 10\n",
    "input_params['lif_mlp_tao'] = 10\n",
    "input_params['lif_mlp_threshold'] = -50\n",
    "input_params['lif_mlp_rest_potential'] = -65\n",
    "input_params['lif_mlp_start_potential'] = 0\n",
    "input_params['lif_mlp_spike_current'] = 10*(input_params['lif_mlp_threshold']-input_params['lif_mlp_rest_potential'])/input_params['lif_mlp_resistance']\n",
    "\n",
    "# Output size\n",
    "input_params['num_classes'] = 10\n",
    "\n",
    "# Backpropagation hyperparameters\n",
    "input_params['learning_rate'] = 1\n",
    "input_params['num_epochs'] = 16\n",
    "input_params['num_samples'] = 1\n"
   ]
  },
  {
   "cell_type": "markdown",
   "metadata": {},
   "source": [
    "## Execução para apenas uma amostra aleatória de uma classe aleatória"
   ]
  },
  {
   "cell_type": "code",
   "execution_count": 332,
   "metadata": {},
   "outputs": [
    {
     "name": "stdout",
     "output_type": "stream",
     "text": [
      "(10, 1, 28, 28)\n"
     ]
    }
   ],
   "source": [
    "## Extração das amostras\n",
    "(x_train, y_train), (x_test, y_test) = mnist.load_data()\n",
    "x_train = x_train/255\n",
    "\n",
    "# Escolhe um range aleatório de labels de acordo com sua quantidade\n",
    "labels = random.sample(range(0,input_params['num_classes']), input_params['num_classes'])\n",
    "samples = []\n",
    "\n",
    "# Monta um array com samples por label\n",
    "for label in labels:\n",
    "    samples_per_label = x_train[np.where(y_train == label)]\n",
    "    num_samples_per_label = samples_per_label.shape[0]\n",
    "    samples_idx = random.sample(range(0, num_samples_per_label-1), input_params['num_samples'])\n",
    "    samples.append(samples_per_label[samples_idx])\n",
    "\n",
    "samples = np.asarray(samples)\n",
    "print(samples.shape)"
   ]
  },
  {
   "cell_type": "markdown",
   "metadata": {},
   "source": [
    "## Geração dos Impulsos Desejados para a(s) classe(s) definida(s):"
   ]
  },
  {
   "cell_type": "code",
   "execution_count": 333,
   "metadata": {},
   "outputs": [
    {
     "name": "stdout",
     "output_type": "stream",
     "text": [
      "(10, 100)\n"
     ]
    }
   ],
   "source": [
    "# Expected Values for Spikes for 1 class\n",
    "desired_range = spike_interval_generator(simulation_time=input_params['lif_simulation_time'])\n",
    "desired_count = spike_count_generator(simulation_time=input_params['lif_simulation_time'])\n",
    "dsp = spike_times_generator(desired_range, desired_count, -1)\n",
    "input_params['desired_spikes'] = dsp[labels]\n",
    "print(input_params['desired_spikes'].shape)"
   ]
  },
  {
   "cell_type": "code",
   "execution_count": 334,
   "metadata": {},
   "outputs": [
    {
     "name": "stdout",
     "output_type": "stream",
     "text": [
      "MSE Error: 23.5\n",
      "MSE Error: 23.5\n",
      "MSE Error: 23.5\n",
      "MSE Error: 23.5\n",
      "MSE Error: 23.5\n",
      "MSE Error: 23.5\n",
      "MSE Error: 23.5\n",
      "MSE Error: 23.5\n",
      "MSE Error: 23.5\n",
      "MSE Error: 23.5\n",
      "MSE Error: 23.5\n",
      "MSE Error: 23.5\n",
      "MSE Error: 23.5\n",
      "MSE Error: 23.5\n",
      "MSE Error: 23.5\n",
      "MSE Error: 23.5\n"
     ]
    },
    {
     "data": {
      "text/plain": [
       "Text(0, 0.5, 'MSE Absolute')"
      ]
     },
     "execution_count": 334,
     "metadata": {},
     "output_type": "execute_result"
    },
    {
     "data": {
      "image/png": "[encoded data removed]",
      "text/plain": [
       "<Figure size 432x288 with 1 Axes>"
      ]
     },
     "metadata": {
      "needs_background": "light"
     },
     "output_type": "display_data"
    }
   ],
   "source": [
    "# Synaptic Weights Initialization\n",
    "W_enc = np.random.uniform(0, 1, (input_params['patches_set'], input_params['patch_size'], input_params['patch_size']))\n",
    "input_params['encoding_weights'] = W_enc\n",
    "\n",
    "W_mlp = np.random.uniform(0, 1, (input_params['num_classes'], input_params['patches_set'], input_params['lif_simulation_time']))\n",
    "input_params['mlp_weights'] = W_mlp\n",
    "\n",
    "training_error = []\n",
    "epoch_count = 0\n",
    "while(epoch_count < input_params['num_epochs']):\n",
    "    class_count = 0\n",
    "    err_sum = 0\n",
    "    while(class_count < input_params['num_classes']):\n",
    "        sample_count = 0\n",
    "        while(sample_count < input_params['num_samples']):\n",
    "            error_signal, error_energy, I_enc, I_mlp = forwardPass(input_sample=samples[class_count, sample_count], \n",
    "                                                                   encoding_weights=input_params['encoding_weights'], \n",
    "                                                                   mlp_weights=input_params['mlp_weights'])\n",
    "            mw, ew = spike_backpropagation(error_signal, I_enc, I_mlp)\n",
    "            input_params['mlp_weights'] = mw\n",
    "            input_params['encoding_weights'] = ew\n",
    "            err_sum += error_energy\n",
    "            sample_count += 1\n",
    "        class_count += 1\n",
    "    epoch_count += 1\n",
    "    mse = err_sum/(input_params['num_classes']*input_params['num_samples'])\n",
    "    print('MSE Error: {}'.format(mse))\n",
    "    training_error.append(mse)\n",
    "training_error = np.asarray(training_error)\n",
    "plt.plot(training_error)\n",
    "plt.title(\"SNN Training Error\")\n",
    "plt.xlabel('Epochs')\n",
    "plt.ylabel('MSE Absolute')\n"
   ]
  },
  {
   "cell_type": "code",
   "execution_count": null,
   "metadata": {},
   "outputs": [],
   "source": []
  },
  {
   "cell_type": "code",
   "execution_count": null,
   "metadata": {},
   "outputs": [],
   "source": []
  }
 ],
 "metadata": {
  "interpreter": {
   "hash": "e43dd8bb75c62a6ecf1af3f36a5e1d06e418643f35b874ce51f57c1f90762855"
  },
  "kernelspec": {
   "display_name": "Python 3.7.10 64-bit ('snn-pso': conda)",
   "name": "python3"
  },
  "language_info": {
   "codemirror_mode": {
    "name": "ipython",
    "version": 3
   },
   "file_extension": ".py",
   "mimetype": "text/x-python",
   "name": "python",
   "nbconvert_exporter": "python",
   "pygments_lexer": "ipython3",
   "version": "3.7.10"
  },
  "orig_nbformat": 4
 },
 "nbformat": 4,
 "nbformat_minor": 2
}
