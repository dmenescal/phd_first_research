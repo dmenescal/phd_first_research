{
 "cells": [
  {
   "cell_type": "markdown",
   "id": "composite-evanescence",
   "metadata": {},
   "source": [
    "## Bibliotecas utilizadas"
   ]
  },
  {
   "cell_type": "code",
   "execution_count": 1,
   "id": "rapid-antibody",
   "metadata": {},
   "outputs": [],
   "source": [
    "from snn_labs import LabExp, LabParam, LabResultAnalisys\n",
    "import numpy as np"
   ]
  },
  {
   "cell_type": "markdown",
   "id": "combined-terror",
   "metadata": {},
   "source": [
    "## Parâmetros de teste utilizados:\n",
    "### 1) Dinâmica do Neurônio"
   ]
  },
  {
   "cell_type": "code",
   "execution_count": 2,
   "id": "subjective-invitation",
   "metadata": {},
   "outputs": [],
   "source": [
    "a = 0.03; b = -2; c = -50; d = 100; v0 = -60; C = 100; K = 0.7; vt = -40; v_peak = 30\n",
    "np_base = [a,b,c,d,v0,C,K,vt,v_peak]"
   ]
  },
  {
   "cell_type": "code",
   "execution_count": 3,
   "id": "qualified-cassette",
   "metadata": {},
   "outputs": [],
   "source": [
    "# Regular Spiking - RS\n",
    "a = 0.02; b = 0.2; c = -65; d = 8; v0 = -60; C = 1; K = 0.7; vt = -40; v_peak = 30\n",
    "rs = [a,b,c,d,v0,C,K,vt,v_peak]"
   ]
  },
  {
   "cell_type": "code",
   "execution_count": 4,
   "id": "motivated-certificate",
   "metadata": {},
   "outputs": [],
   "source": [
    "# Intrinsically Bursting - IB\n",
    "a = 0.02; b = 0.2; c = -55; d = 4; v0 = -60; C = 1; K = 0.7; vt = -40; v_peak = 30\n",
    "ib = [a,b,c,d,v0,C,K,vt,v_peak]"
   ]
  },
  {
   "cell_type": "code",
   "execution_count": 5,
   "id": "square-copper",
   "metadata": {},
   "outputs": [],
   "source": [
    "# Chattering - CH\n",
    "a = 0.02; b = 0.2; c = -50; d = 2; v0 = -60; C = 1; K = 0.7; vt = -40; v_peak = 30\n",
    "ch = [a,b,c,d,v0,C,K,vt,v_peak]"
   ]
  },
  {
   "cell_type": "code",
   "execution_count": 15,
   "id": "necessary-novel",
   "metadata": {},
   "outputs": [],
   "source": [
    "# Fast Spiking - FS\n",
    "a = 0.1; b = -2; c = -65; d = 1000; v0 = -60; C = 100; K = 0.7; vt = -40; v_peak = 30\n",
    "fs = [a,b,c,d,v0,C,K,vt,v_peak]"
   ]
  },
  {
   "cell_type": "code",
   "execution_count": 7,
   "id": "multiple-wireless",
   "metadata": {},
   "outputs": [],
   "source": [
    "# Thalamo-Cortical - TC\n",
    "a = 0.1; b = 0.25; c = -65; d = 0.05; v0 = -60; C = 1; K = 0.7; vt = -40; v_peak = 30\n",
    "tc = [a,b,c,d,v0,C,K,vt,v_peak]"
   ]
  },
  {
   "cell_type": "code",
   "execution_count": 8,
   "id": "talented-comment",
   "metadata": {},
   "outputs": [],
   "source": [
    "# Resonator - RZ\n",
    "a = 0.1; b = 0.25; c = -65; d = 2; v0 = -60; C = 1; K = 0.7; vt = -40; v_peak = 30\n",
    "rz = [a,b,c,d,v0,C,K,vt,v_peak]"
   ]
  },
  {
   "cell_type": "code",
   "execution_count": 9,
   "id": "continuing-revelation",
   "metadata": {},
   "outputs": [],
   "source": [
    "# Low-threshold spiking - LTS\n",
    "a = 0.02; b = 0.25; c = -65; d = 2; v0 = -60; C = 1; K = 0.7; vt = -40; v_peak = 30\n",
    "lts = [a,b,c,d,v0,C,K,vt,v_peak]"
   ]
  },
  {
   "cell_type": "markdown",
   "id": "requested-environment",
   "metadata": {},
   "source": [
    "### 2) Geração de Spikes e Simulação"
   ]
  },
  {
   "cell_type": "code",
   "execution_count": 19,
   "id": "finished-debate",
   "metadata": {},
   "outputs": [],
   "source": [
    "p0 = LabParam(num_patterns=100,\n",
    "             num_labels=10,\n",
    "             target_label=0,\n",
    "             patch_size=5,\n",
    "             synaptic_weights=np.random.uniform(0, 1, (5, 5)),\n",
    "             current_gama=1,\n",
    "             simulation_time=100,\n",
    "             simulation_delta=0.1,\n",
    "             neuron_model_params=np_base,\n",
    "             param_desc='Base Neuron Dynamics')\n",
    "\n",
    "p1 = LabParam(num_patterns=100,\n",
    "             num_labels=10,\n",
    "             target_label=0,\n",
    "             patch_size=5,\n",
    "             synaptic_weights=np.random.uniform(0, 1, (5, 5)),\n",
    "             current_gama=1,\n",
    "             simulation_time=100,\n",
    "             simulation_delta=0.1,\n",
    "             neuron_model_params=rs,\n",
    "             param_desc='Regular Spiking')\n",
    "\n",
    "p2 = LabParam(num_patterns=100,\n",
    "             num_labels=10,\n",
    "             target_label=0,\n",
    "             patch_size=5,\n",
    "             synaptic_weights=np.random.uniform(0, 1, (5, 5)),\n",
    "             current_gama=1,\n",
    "             simulation_time=100,\n",
    "             simulation_delta=0.1,\n",
    "             neuron_model_params=ib,\n",
    "             param_desc='Intrinsically Bursting')\n",
    "\n",
    "p3 = LabParam(num_patterns=100,\n",
    "             num_labels=10,\n",
    "             target_label=0,\n",
    "             patch_size=5,\n",
    "             synaptic_weights=np.random.uniform(0, 1, (5, 5)),\n",
    "             current_gama=1,\n",
    "             simulation_time=100,\n",
    "             simulation_delta=0.1,\n",
    "             neuron_model_params=ch,\n",
    "             param_desc='Chattering')\n",
    "\n",
    "p4 = LabParam(num_patterns=100,\n",
    "             num_labels=10,\n",
    "             target_label=0,\n",
    "             patch_size=5,\n",
    "             synaptic_weights=np.random.uniform(0, 1, (5, 5)),\n",
    "             current_gama=1,\n",
    "             simulation_time=1000,\n",
    "             simulation_delta=1,\n",
    "             neuron_model_params=fs,\n",
    "             param_desc='Fast Spiking')\n",
    "\n",
    "p5 = LabParam(num_patterns=100,\n",
    "             num_labels=10,\n",
    "             target_label=0,\n",
    "             patch_size=5,\n",
    "             synaptic_weights=np.random.uniform(0, 1, (5, 5)),\n",
    "             current_gama=1,\n",
    "             simulation_time=100,\n",
    "             simulation_delta=0.1,\n",
    "             neuron_model_params=tc,\n",
    "             param_desc='Thalamo-Cortical')\n",
    "\n",
    "p6 = LabParam(num_patterns=100,\n",
    "             num_labels=10,\n",
    "             target_label=0,\n",
    "             patch_size=5,\n",
    "             synaptic_weights=np.random.uniform(0, 1, (5, 5)),\n",
    "             current_gama=1,\n",
    "             simulation_time=100,\n",
    "             simulation_delta=0.1,\n",
    "             neuron_model_params=rz,\n",
    "             param_desc='Resonator')\n",
    "\n",
    "p7 = LabParam(num_patterns=100,\n",
    "             num_labels=10,\n",
    "             target_label=0,\n",
    "             patch_size=5,\n",
    "             synaptic_weights=np.random.uniform(0, 1, (5, 5)),\n",
    "             current_gama=1,\n",
    "             simulation_time=100,\n",
    "             simulation_delta=0.1,\n",
    "             neuron_model_params=lts,\n",
    "             param_desc='Low-threshold Spiking')"
   ]
  },
  {
   "cell_type": "markdown",
   "id": "speaking-syria",
   "metadata": {},
   "source": [
    "## Cadastro dos parâmetros e execução do experimento"
   ]
  },
  {
   "cell_type": "code",
   "execution_count": 20,
   "id": "dominant-sierra",
   "metadata": {},
   "outputs": [
    {
     "data": {
      "application/vnd.jupyter.widget-view+json": {
       "model_id": "1b4b8b30f953492d9fa446578ce2bf1d",
       "version_major": 2,
       "version_minor": 0
      },
      "text/plain": [
       "Running experiments...:   0%|          | 0/1 [00:00<?, ?it/s]"
      ]
     },
     "metadata": {},
     "output_type": "display_data"
    }
   ],
   "source": [
    "experiment = LabExp(title=\"Experimento: Padrões de spikes X Dinâmica do Neurônio\")\n",
    "#experiment.registerParameter(p0)\n",
    "#experiment.registerParameter(p1)\n",
    "#experiment.registerParameter(p2)\n",
    "#experiment.registerParameter(p3)\n",
    "experiment.registerParameter(p4)\n",
    "#experiment.registerParameter(p5)\n",
    "#experiment.registerParameter(p6)\n",
    "#experiment.registerParameter(p7)\n",
    "exp_results = experiment.run_experiment(plot_results=False)"
   ]
  },
  {
   "cell_type": "markdown",
   "id": "aquatic-arcade",
   "metadata": {},
   "source": [
    "## Levantamento da análise gráfica dos resultados do experimento:\n",
    "### Geração de um histograma da contagem de impulsos por rótulo"
   ]
  },
  {
   "cell_type": "code",
   "execution_count": 21,
   "id": "inner-collaboration",
   "metadata": {},
   "outputs": [
    {
     "data": {
      "application/vnd.jupyter.widget-view+json": {
       "model_id": "02cf3dce6321415abfb166b6d087fc75",
       "version_major": 2,
       "version_minor": 0
      },
      "text/plain": [
       "Generating Histogram...:   0%|          | 0/1 [00:00<?, ?it/s]"
      ]
     },
     "metadata": {},
     "output_type": "display_data"
    },
    {
     "data": {
      "image/png": "[encoded data removed]",
      "text/plain": [
       "<Figure size 1152x576 with 1 Axes>"
      ]
     },
     "metadata": {
      "needs_background": "light"
     },
     "output_type": "display_data"
    }
   ],
   "source": [
    "analysis = LabResultAnalisys(exp_results, title=\"Spike Count Histogram for Labels\")\n",
    "analysis.plot_histogram_analisys()"
   ]
  },
  {
   "cell_type": "code",
   "execution_count": null,
   "id": "relevant-florida",
   "metadata": {},
   "outputs": [],
   "source": []
  }
 ],
 "metadata": {
  "kernelspec": {
   "display_name": "Python 3",
   "language": "python",
   "name": "python3"
  },
  "language_info": {
   "codemirror_mode": {
    "name": "ipython",
    "version": 3
   },
   "file_extension": ".py",
   "mimetype": "text/x-python",
   "name": "python",
   "nbconvert_exporter": "python",
   "pygments_lexer": "ipython3",
   "version": "3.7.10"
  }
 },
 "nbformat": 4,
 "nbformat_minor": 5
}
