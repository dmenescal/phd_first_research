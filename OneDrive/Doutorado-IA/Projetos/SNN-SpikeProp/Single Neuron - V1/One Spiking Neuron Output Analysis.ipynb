{
 "cells": [
  {
   "cell_type": "markdown",
   "id": "composite-evanescence",
   "metadata": {},
   "source": [
    "## Bibliotecas utilizadas"
   ]
  },
  {
   "cell_type": "code",
   "execution_count": null,
   "id": "rapid-antibody",
   "metadata": {},
   "outputs": [],
   "source": [
    "from snn_labs import LabExp, LabParam, LabResultAnalisys\n",
    "import numpy as np"
   ]
  },
  {
   "cell_type": "markdown",
   "id": "combined-terror",
   "metadata": {},
   "source": [
    "## Parâmetros de teste utilizados:\n",
    "### 1) Dinâmica do Neurônio"
   ]
  },
  {
   "cell_type": "code",
   "execution_count": null,
   "id": "subjective-invitation",
   "metadata": {},
   "outputs": [],
   "source": [
    "a = 0.03; b = -2; c = -50; d = 100; v0 = -60; C = 100; K = 0.7; vt = -40; v_peak = 10\n",
    "th0 = [a,b,c,d,v0,C,K,vt,v_peak]\n",
    "\n",
    "a = 0.03; b = -2; c = -50; d = 100; v0 = -60; C = 100; K = 0.7; vt = -40; v_peak = 30\n",
    "th1 = [a,b,c,d,v0,C,K,vt,v_peak]\n",
    "\n",
    "a = 0.03; b = -2; c = -50; d = 100; v0 = -60; C = 100; K = 0.7; vt = -40; v_peak = 70\n",
    "th2 = [a,b,c,d,v0,C,K,vt,v_peak]\n",
    "\n",
    "a = 0.03; b = -2; c = -50; d = 100; v0 = -60; C = 100; K = 0.7; vt = -40; v_peak = 150\n",
    "th3 = [a,b,c,d,v0,C,K,vt,v_peak]\n",
    "\n",
    "a = 0.03; b = -2; c = -50; d = 100; v0 = -60; C = 100; K = 0.7; vt = -40; v_peak = 350\n",
    "th4 = [a,b,c,d,v0,C,K,vt,v_peak]\n",
    "\n",
    "a = 0.03; b = -2; c = -50; d = 100; v0 = -60; C = 100; K = 0.7; vt = -40; v_peak = 700\n",
    "th5 = [a,b,c,d,v0,C,K,vt,v_peak]\n",
    "\n",
    "a = 0.03; b = -2; c = -50; d = 100; v0 = -60; C = 100; K = 0.7; vt = -40; v_peak = 1500\n",
    "th6 = [a,b,c,d,v0,C,K,vt,v_peak]\n",
    "\n",
    "a = 0.03; b = -2; c = -50; d = 100; v0 = -60; C = 100; K = 0.7; vt = -40; v_peak = 3500\n",
    "th7 = [a,b,c,d,v0,C,K,vt,v_peak]"
   ]
  },
  {
   "cell_type": "code",
   "execution_count": null,
   "id": "qualified-cassette",
   "metadata": {},
   "outputs": [],
   "source": [
    "# Regular Spiking - RS\n",
    "a = 0.02; b = 0.2; c = -65; d = 8; v0 = -60; C = 1; K = 0.7; vt = -40; v_peak = 30\n",
    "rs = [a,b,c,d,v0,C,K,vt,v_peak]"
   ]
  },
  {
   "cell_type": "code",
   "execution_count": null,
   "id": "motivated-certificate",
   "metadata": {},
   "outputs": [],
   "source": [
    "# Intrinsically Bursting - IB\n",
    "a = 0.02; b = 0.2; c = -55; d = 4; v0 = -60; C = 1; K = 0.7; vt = -40; v_peak = 30\n",
    "ib = [a,b,c,d,v0,C,K,vt,v_peak]"
   ]
  },
  {
   "cell_type": "code",
   "execution_count": null,
   "id": "square-copper",
   "metadata": {},
   "outputs": [],
   "source": [
    "# Chattering - CH\n",
    "a = 0.02; b = 0.2; c = -50; d = 2; v0 = -60; C = 1; K = 0.7; vt = -40; v_peak = 30\n",
    "ch = [a,b,c,d,v0,C,K,vt,v_peak]"
   ]
  },
  {
   "cell_type": "code",
   "execution_count": null,
   "id": "necessary-novel",
   "metadata": {},
   "outputs": [],
   "source": [
    "# Fast Spiking - FS\n",
    "a = 0.1; b = -2; c = -65; d = 1000; v0 = -60; C = 100; K = 0.7; vt = -40; v_peak = 30\n",
    "fs = [a,b,c,d,v0,C,K,vt,v_peak]"
   ]
  },
  {
   "cell_type": "code",
   "execution_count": null,
   "id": "multiple-wireless",
   "metadata": {},
   "outputs": [],
   "source": [
    "# Thalamo-Cortical - TC\n",
    "a = 0.1; b = 0.25; c = -65; d = 0.05; v0 = -60; C = 1; K = 0.7; vt = -40; v_peak = 30\n",
    "tc = [a,b,c,d,v0,C,K,vt,v_peak]"
   ]
  },
  {
   "cell_type": "code",
   "execution_count": null,
   "id": "talented-comment",
   "metadata": {},
   "outputs": [],
   "source": [
    "# Resonator - RZ\n",
    "a = 0.1; b = 0.25; c = -65; d = 2; v0 = -60; C = 1; K = 0.7; vt = -40; v_peak = 30\n",
    "rz = [a,b,c,d,v0,C,K,vt,v_peak]"
   ]
  },
  {
   "cell_type": "code",
   "execution_count": null,
   "id": "continuing-revelation",
   "metadata": {},
   "outputs": [],
   "source": [
    "# Low-threshold spiking - LTS\n",
    "a = 0.02; b = 0.25; c = -65; d = 2; v0 = -60; C = 1; K = 0.7; vt = -40; v_peak = 30\n",
    "lts = [a,b,c,d,v0,C,K,vt,v_peak]"
   ]
  },
  {
   "cell_type": "markdown",
   "id": "requested-environment",
   "metadata": {},
   "source": [
    "### 2) Geração de Spikes e Simulação"
   ]
  },
  {
   "cell_type": "code",
   "execution_count": null,
   "id": "finished-debate",
   "metadata": {},
   "outputs": [],
   "source": [
    "p0 = LabParam(num_patterns=100,\n",
    "             num_labels=10,\n",
    "             target_label=0,\n",
    "             patch_size=5,\n",
    "             synaptic_weights=np.random.uniform(0, 1, (5, 5)),\n",
    "             current_gama=1,\n",
    "             simulation_time=100,\n",
    "             simulation_delta=0.1,\n",
    "             neuron_model_params=th0,\n",
    "             param_desc='Base Neuron Dynamics')\n",
    "\n",
    "p1 = LabParam(num_patterns=100,\n",
    "             num_labels=10,\n",
    "             target_label=0,\n",
    "             patch_size=5,\n",
    "             synaptic_weights=np.random.uniform(0, 1, (5, 5)),\n",
    "             current_gama=1,\n",
    "             simulation_time=100,\n",
    "             simulation_delta=0.1,\n",
    "             neuron_model_params=th1,\n",
    "             param_desc='Base Neuron Dynamics')\n",
    "\n",
    "p2 = LabParam(num_patterns=100,\n",
    "             num_labels=10,\n",
    "             target_label=0,\n",
    "             patch_size=5,\n",
    "             synaptic_weights=np.random.uniform(0, 1, (5, 5)),\n",
    "             current_gama=1,\n",
    "             simulation_time=100,\n",
    "             simulation_delta=0.1,\n",
    "             neuron_model_params=th2,\n",
    "             param_desc='Base Neuron Dynamics')\n",
    "\n",
    "p3 = LabParam(num_patterns=100,\n",
    "             num_labels=10,\n",
    "             target_label=0,\n",
    "             patch_size=5,\n",
    "             synaptic_weights=np.random.uniform(0, 1, (5, 5)),\n",
    "             current_gama=1,\n",
    "             simulation_time=100,\n",
    "             simulation_delta=0.1,\n",
    "             neuron_model_params=th3,\n",
    "             param_desc='Base Neuron Dynamics')\n",
    "\n",
    "p4 = LabParam(num_patterns=100,\n",
    "             num_labels=10,\n",
    "             target_label=0,\n",
    "             patch_size=5,\n",
    "             synaptic_weights=np.random.uniform(0, 1, (5, 5)),\n",
    "             current_gama=1,\n",
    "             simulation_time=100,\n",
    "             simulation_delta=0.1,\n",
    "             neuron_model_params=th4,\n",
    "             param_desc='Base Neuron Dynamics')\n",
    "\n",
    "p5 = LabParam(num_patterns=100,\n",
    "             num_labels=10,\n",
    "             target_label=0,\n",
    "             patch_size=5,\n",
    "             synaptic_weights=np.random.uniform(0, 1, (5, 5)),\n",
    "             current_gama=1,\n",
    "             simulation_time=100,\n",
    "             simulation_delta=0.1,\n",
    "             neuron_model_params=th5,\n",
    "             param_desc='Base Neuron Dynamics')\n",
    "\n",
    "p6 = LabParam(num_patterns=100,\n",
    "             num_labels=10,\n",
    "             target_label=0,\n",
    "             patch_size=5,\n",
    "             synaptic_weights=np.random.uniform(0, 1, (5, 5)),\n",
    "             current_gama=1,\n",
    "             simulation_time=100,\n",
    "             simulation_delta=0.1,\n",
    "             neuron_model_params=th6,\n",
    "             param_desc='Base Neuron Dynamics')\n",
    "\n",
    "p7 = LabParam(num_patterns=100,\n",
    "             num_labels=10,\n",
    "             target_label=0,\n",
    "             patch_size=5,\n",
    "             synaptic_weights=np.random.uniform(0, 1, (5, 5)),\n",
    "             current_gama=1,\n",
    "             simulation_time=100,\n",
    "             simulation_delta=0.1,\n",
    "             neuron_model_params=th7,\n",
    "             param_desc='Base Neuron Dynamics')\n"
   ]
  },
  {
   "cell_type": "markdown",
   "id": "speaking-syria",
   "metadata": {},
   "source": [
    "## Cadastro dos parâmetros e execução do experimento"
   ]
  },
  {
   "cell_type": "code",
   "execution_count": null,
   "id": "dominant-sierra",
   "metadata": {},
   "outputs": [],
   "source": [
    "experiment = LabExp(title=\"Experimento: Padrões de spikes X Dinâmica do Neurônio\")\n",
    "experiment.registerParameter(p0)\n",
    "experiment.registerParameter(p1)\n",
    "experiment.registerParameter(p2)\n",
    "experiment.registerParameter(p3)\n",
    "experiment.registerParameter(p4)\n",
    "experiment.registerParameter(p5)\n",
    "experiment.registerParameter(p6)\n",
    "experiment.registerParameter(p7)\n",
    "exp_results = experiment.run_experiment(plot_results=False)"
   ]
  },
  {
   "cell_type": "markdown",
   "id": "aquatic-arcade",
   "metadata": {},
   "source": [
    "## Levantamento da análise gráfica dos resultados do experimento:\n",
    "### Geração de um histograma da contagem de impulsos por rótulo"
   ]
  },
  {
   "cell_type": "code",
   "execution_count": null,
   "id": "inner-collaboration",
   "metadata": {},
   "outputs": [],
   "source": [
    "analysis = LabResultAnalisys(exp_results, title=\"Spike Count Histogram for Labels\")\n",
    "analysis.plot_histogram_analisys()"
   ]
  },
  {
   "cell_type": "code",
   "execution_count": null,
   "id": "relevant-florida",
   "metadata": {},
   "outputs": [],
   "source": []
  }
 ],
 "metadata": {
  "kernelspec": {
   "display_name": "Python 3",
   "language": "python",
   "name": "python3"
  },
  "language_info": {
   "codemirror_mode": {
    "name": "ipython",
    "version": 3
   },
   "file_extension": ".py",
   "mimetype": "text/x-python",
   "name": "python",
   "nbconvert_exporter": "python",
   "pygments_lexer": "ipython3",
   "version": "3.7.10"
  }
 },
 "nbformat": 4,
 "nbformat_minor": 5
}
